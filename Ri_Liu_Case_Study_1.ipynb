{
 "cells": [
  {
   "cell_type": "markdown",
   "metadata": {},
   "source": [
    "•\tDescribe the dataset and any issues with it. \n",
    "\n",
    "•\tGenerate a minimum of 5 unique visualizations using the data and write a brief description of your observations. Additionally, all attempts should be made to make the visualizations visually appealing\n",
    "\n",
    "•\tCreate a feature set and create a model which predicts interest_rate using at least 2 algorithms. Describe any data cleansing that must be performed and analysis when examining the data.\n",
    "\n",
    "•\tVisualize the test results and propose enhancements to the model, what would you do if you had more time. Also describe assumptions you made and your approach.\n"
   ]
  },
  {
   "cell_type": "code",
   "execution_count": 1,
   "metadata": {},
   "outputs": [],
   "source": [
    "import pandas as pd\n",
    "import numpy as np\n",
    "import matplotlib.pyplot as plt\n",
    "import seaborn as sns"
   ]
  },
  {
   "cell_type": "code",
   "execution_count": 2,
   "metadata": {},
   "outputs": [],
   "source": [
    "pd.set_option('display.float_format',lambda x : '%.4f' % x)"
   ]
  },
  {
   "cell_type": "code",
   "execution_count": 3,
   "metadata": {},
   "outputs": [],
   "source": [
    "data_raw = pd.read_csv('loans_full_schema.csv')\n",
    "data = data_raw.copy()"
   ]
  },
  {
   "cell_type": "code",
   "execution_count": 4,
   "metadata": {},
   "outputs": [
    {
     "data": {
      "text/plain": [
       "(10000, 55)"
      ]
     },
     "execution_count": 4,
     "metadata": {},
     "output_type": "execute_result"
    }
   ],
   "source": [
    "data.shape"
   ]
  },
  {
   "cell_type": "code",
   "execution_count": 5,
   "metadata": {},
   "outputs": [
    {
     "name": "stderr",
     "output_type": "stream",
     "text": [
      "/var/folders/8f/zn20y3z53vj3ln91y64pcf2w0000gn/T/ipykernel_71872/488740907.py:1: FutureWarning: The frame.append method is deprecated and will be removed from pandas in a future version. Use pandas.concat instead.\n",
      "  data.head(5).append(data.tail(5))\n"
     ]
    },
    {
     "data": {
      "text/html": [
       "<div>\n",
       "<style scoped>\n",
       "    .dataframe tbody tr th:only-of-type {\n",
       "        vertical-align: middle;\n",
       "    }\n",
       "\n",
       "    .dataframe tbody tr th {\n",
       "        vertical-align: top;\n",
       "    }\n",
       "\n",
       "    .dataframe thead th {\n",
       "        text-align: right;\n",
       "    }\n",
       "</style>\n",
       "<table border=\"1\" class=\"dataframe\">\n",
       "  <thead>\n",
       "    <tr style=\"text-align: right;\">\n",
       "      <th></th>\n",
       "      <th>emp_title</th>\n",
       "      <th>emp_length</th>\n",
       "      <th>state</th>\n",
       "      <th>homeownership</th>\n",
       "      <th>annual_income</th>\n",
       "      <th>verified_income</th>\n",
       "      <th>debt_to_income</th>\n",
       "      <th>annual_income_joint</th>\n",
       "      <th>verification_income_joint</th>\n",
       "      <th>debt_to_income_joint</th>\n",
       "      <th>...</th>\n",
       "      <th>sub_grade</th>\n",
       "      <th>issue_month</th>\n",
       "      <th>loan_status</th>\n",
       "      <th>initial_listing_status</th>\n",
       "      <th>disbursement_method</th>\n",
       "      <th>balance</th>\n",
       "      <th>paid_total</th>\n",
       "      <th>paid_principal</th>\n",
       "      <th>paid_interest</th>\n",
       "      <th>paid_late_fees</th>\n",
       "    </tr>\n",
       "  </thead>\n",
       "  <tbody>\n",
       "    <tr>\n",
       "      <th>0</th>\n",
       "      <td>global config engineer</td>\n",
       "      <td>3.0000</td>\n",
       "      <td>NJ</td>\n",
       "      <td>MORTGAGE</td>\n",
       "      <td>90000.0000</td>\n",
       "      <td>Verified</td>\n",
       "      <td>18.0100</td>\n",
       "      <td>NaN</td>\n",
       "      <td>NaN</td>\n",
       "      <td>NaN</td>\n",
       "      <td>...</td>\n",
       "      <td>C3</td>\n",
       "      <td>Mar-2018</td>\n",
       "      <td>Current</td>\n",
       "      <td>whole</td>\n",
       "      <td>Cash</td>\n",
       "      <td>27015.8600</td>\n",
       "      <td>1999.3300</td>\n",
       "      <td>984.1400</td>\n",
       "      <td>1015.1900</td>\n",
       "      <td>0.0000</td>\n",
       "    </tr>\n",
       "    <tr>\n",
       "      <th>1</th>\n",
       "      <td>warehouse office clerk</td>\n",
       "      <td>10.0000</td>\n",
       "      <td>HI</td>\n",
       "      <td>RENT</td>\n",
       "      <td>40000.0000</td>\n",
       "      <td>Not Verified</td>\n",
       "      <td>5.0400</td>\n",
       "      <td>NaN</td>\n",
       "      <td>NaN</td>\n",
       "      <td>NaN</td>\n",
       "      <td>...</td>\n",
       "      <td>C1</td>\n",
       "      <td>Feb-2018</td>\n",
       "      <td>Current</td>\n",
       "      <td>whole</td>\n",
       "      <td>Cash</td>\n",
       "      <td>4651.3700</td>\n",
       "      <td>499.1200</td>\n",
       "      <td>348.6300</td>\n",
       "      <td>150.4900</td>\n",
       "      <td>0.0000</td>\n",
       "    </tr>\n",
       "    <tr>\n",
       "      <th>2</th>\n",
       "      <td>assembly</td>\n",
       "      <td>3.0000</td>\n",
       "      <td>WI</td>\n",
       "      <td>RENT</td>\n",
       "      <td>40000.0000</td>\n",
       "      <td>Source Verified</td>\n",
       "      <td>21.1500</td>\n",
       "      <td>NaN</td>\n",
       "      <td>NaN</td>\n",
       "      <td>NaN</td>\n",
       "      <td>...</td>\n",
       "      <td>D1</td>\n",
       "      <td>Feb-2018</td>\n",
       "      <td>Current</td>\n",
       "      <td>fractional</td>\n",
       "      <td>Cash</td>\n",
       "      <td>1824.6300</td>\n",
       "      <td>281.8000</td>\n",
       "      <td>175.3700</td>\n",
       "      <td>106.4300</td>\n",
       "      <td>0.0000</td>\n",
       "    </tr>\n",
       "    <tr>\n",
       "      <th>3</th>\n",
       "      <td>customer service</td>\n",
       "      <td>1.0000</td>\n",
       "      <td>PA</td>\n",
       "      <td>RENT</td>\n",
       "      <td>30000.0000</td>\n",
       "      <td>Not Verified</td>\n",
       "      <td>10.1600</td>\n",
       "      <td>NaN</td>\n",
       "      <td>NaN</td>\n",
       "      <td>NaN</td>\n",
       "      <td>...</td>\n",
       "      <td>A3</td>\n",
       "      <td>Jan-2018</td>\n",
       "      <td>Current</td>\n",
       "      <td>whole</td>\n",
       "      <td>Cash</td>\n",
       "      <td>18853.2600</td>\n",
       "      <td>3312.8900</td>\n",
       "      <td>2746.7400</td>\n",
       "      <td>566.1500</td>\n",
       "      <td>0.0000</td>\n",
       "    </tr>\n",
       "    <tr>\n",
       "      <th>4</th>\n",
       "      <td>security supervisor</td>\n",
       "      <td>10.0000</td>\n",
       "      <td>CA</td>\n",
       "      <td>RENT</td>\n",
       "      <td>35000.0000</td>\n",
       "      <td>Verified</td>\n",
       "      <td>57.9600</td>\n",
       "      <td>57000.0000</td>\n",
       "      <td>Verified</td>\n",
       "      <td>37.6600</td>\n",
       "      <td>...</td>\n",
       "      <td>C3</td>\n",
       "      <td>Mar-2018</td>\n",
       "      <td>Current</td>\n",
       "      <td>whole</td>\n",
       "      <td>Cash</td>\n",
       "      <td>21430.1500</td>\n",
       "      <td>2324.6500</td>\n",
       "      <td>1569.8500</td>\n",
       "      <td>754.8000</td>\n",
       "      <td>0.0000</td>\n",
       "    </tr>\n",
       "    <tr>\n",
       "      <th>9995</th>\n",
       "      <td>owner</td>\n",
       "      <td>10.0000</td>\n",
       "      <td>TX</td>\n",
       "      <td>RENT</td>\n",
       "      <td>108000.0000</td>\n",
       "      <td>Source Verified</td>\n",
       "      <td>22.2800</td>\n",
       "      <td>NaN</td>\n",
       "      <td>NaN</td>\n",
       "      <td>NaN</td>\n",
       "      <td>...</td>\n",
       "      <td>A4</td>\n",
       "      <td>Jan-2018</td>\n",
       "      <td>Current</td>\n",
       "      <td>whole</td>\n",
       "      <td>Cash</td>\n",
       "      <td>21586.3400</td>\n",
       "      <td>2969.8000</td>\n",
       "      <td>2413.6600</td>\n",
       "      <td>556.1400</td>\n",
       "      <td>0.0000</td>\n",
       "    </tr>\n",
       "    <tr>\n",
       "      <th>9996</th>\n",
       "      <td>director</td>\n",
       "      <td>8.0000</td>\n",
       "      <td>PA</td>\n",
       "      <td>MORTGAGE</td>\n",
       "      <td>121000.0000</td>\n",
       "      <td>Verified</td>\n",
       "      <td>32.3800</td>\n",
       "      <td>NaN</td>\n",
       "      <td>NaN</td>\n",
       "      <td>NaN</td>\n",
       "      <td>...</td>\n",
       "      <td>D3</td>\n",
       "      <td>Feb-2018</td>\n",
       "      <td>Current</td>\n",
       "      <td>whole</td>\n",
       "      <td>Cash</td>\n",
       "      <td>9147.4400</td>\n",
       "      <td>1456.3100</td>\n",
       "      <td>852.5600</td>\n",
       "      <td>603.7500</td>\n",
       "      <td>0.0000</td>\n",
       "    </tr>\n",
       "    <tr>\n",
       "      <th>9997</th>\n",
       "      <td>toolmaker</td>\n",
       "      <td>10.0000</td>\n",
       "      <td>CT</td>\n",
       "      <td>MORTGAGE</td>\n",
       "      <td>67000.0000</td>\n",
       "      <td>Verified</td>\n",
       "      <td>45.2600</td>\n",
       "      <td>107000.0000</td>\n",
       "      <td>Source Verified</td>\n",
       "      <td>29.5700</td>\n",
       "      <td>...</td>\n",
       "      <td>E2</td>\n",
       "      <td>Feb-2018</td>\n",
       "      <td>Current</td>\n",
       "      <td>fractional</td>\n",
       "      <td>Cash</td>\n",
       "      <td>27617.6500</td>\n",
       "      <td>4620.8000</td>\n",
       "      <td>2382.3500</td>\n",
       "      <td>2238.4500</td>\n",
       "      <td>0.0000</td>\n",
       "    </tr>\n",
       "    <tr>\n",
       "      <th>9998</th>\n",
       "      <td>manager</td>\n",
       "      <td>1.0000</td>\n",
       "      <td>WI</td>\n",
       "      <td>MORTGAGE</td>\n",
       "      <td>80000.0000</td>\n",
       "      <td>Source Verified</td>\n",
       "      <td>11.9900</td>\n",
       "      <td>NaN</td>\n",
       "      <td>NaN</td>\n",
       "      <td>NaN</td>\n",
       "      <td>...</td>\n",
       "      <td>A1</td>\n",
       "      <td>Feb-2018</td>\n",
       "      <td>Current</td>\n",
       "      <td>whole</td>\n",
       "      <td>Cash</td>\n",
       "      <td>21518.1200</td>\n",
       "      <td>2873.3100</td>\n",
       "      <td>2481.8800</td>\n",
       "      <td>391.4300</td>\n",
       "      <td>0.0000</td>\n",
       "    </tr>\n",
       "    <tr>\n",
       "      <th>9999</th>\n",
       "      <td>operations analyst</td>\n",
       "      <td>3.0000</td>\n",
       "      <td>CT</td>\n",
       "      <td>RENT</td>\n",
       "      <td>66000.0000</td>\n",
       "      <td>Not Verified</td>\n",
       "      <td>20.8200</td>\n",
       "      <td>NaN</td>\n",
       "      <td>NaN</td>\n",
       "      <td>NaN</td>\n",
       "      <td>...</td>\n",
       "      <td>B4</td>\n",
       "      <td>Feb-2018</td>\n",
       "      <td>Current</td>\n",
       "      <td>whole</td>\n",
       "      <td>Cash</td>\n",
       "      <td>11574.8300</td>\n",
       "      <td>1658.5600</td>\n",
       "      <td>1225.1700</td>\n",
       "      <td>433.3900</td>\n",
       "      <td>0.0000</td>\n",
       "    </tr>\n",
       "  </tbody>\n",
       "</table>\n",
       "<p>10 rows × 55 columns</p>\n",
       "</div>"
      ],
      "text/plain": [
       "                    emp_title  emp_length state homeownership  annual_income  \\\n",
       "0     global config engineer       3.0000    NJ      MORTGAGE     90000.0000   \n",
       "1      warehouse office clerk     10.0000    HI          RENT     40000.0000   \n",
       "2                    assembly      3.0000    WI          RENT     40000.0000   \n",
       "3            customer service      1.0000    PA          RENT     30000.0000   \n",
       "4        security supervisor      10.0000    CA          RENT     35000.0000   \n",
       "9995                   owner      10.0000    TX          RENT    108000.0000   \n",
       "9996                 director      8.0000    PA      MORTGAGE    121000.0000   \n",
       "9997                toolmaker     10.0000    CT      MORTGAGE     67000.0000   \n",
       "9998                  manager      1.0000    WI      MORTGAGE     80000.0000   \n",
       "9999       operations analyst      3.0000    CT          RENT     66000.0000   \n",
       "\n",
       "      verified_income  debt_to_income  annual_income_joint  \\\n",
       "0            Verified         18.0100                  NaN   \n",
       "1        Not Verified          5.0400                  NaN   \n",
       "2     Source Verified         21.1500                  NaN   \n",
       "3        Not Verified         10.1600                  NaN   \n",
       "4            Verified         57.9600           57000.0000   \n",
       "9995  Source Verified         22.2800                  NaN   \n",
       "9996         Verified         32.3800                  NaN   \n",
       "9997         Verified         45.2600          107000.0000   \n",
       "9998  Source Verified         11.9900                  NaN   \n",
       "9999     Not Verified         20.8200                  NaN   \n",
       "\n",
       "     verification_income_joint  debt_to_income_joint  ...  sub_grade  \\\n",
       "0                          NaN                   NaN  ...         C3   \n",
       "1                          NaN                   NaN  ...         C1   \n",
       "2                          NaN                   NaN  ...         D1   \n",
       "3                          NaN                   NaN  ...         A3   \n",
       "4                     Verified               37.6600  ...         C3   \n",
       "9995                       NaN                   NaN  ...         A4   \n",
       "9996                       NaN                   NaN  ...         D3   \n",
       "9997           Source Verified               29.5700  ...         E2   \n",
       "9998                       NaN                   NaN  ...         A1   \n",
       "9999                       NaN                   NaN  ...         B4   \n",
       "\n",
       "      issue_month  loan_status  initial_listing_status  disbursement_method  \\\n",
       "0        Mar-2018      Current                   whole                 Cash   \n",
       "1        Feb-2018      Current                   whole                 Cash   \n",
       "2        Feb-2018      Current              fractional                 Cash   \n",
       "3        Jan-2018      Current                   whole                 Cash   \n",
       "4        Mar-2018      Current                   whole                 Cash   \n",
       "9995     Jan-2018      Current                   whole                 Cash   \n",
       "9996     Feb-2018      Current                   whole                 Cash   \n",
       "9997     Feb-2018      Current              fractional                 Cash   \n",
       "9998     Feb-2018      Current                   whole                 Cash   \n",
       "9999     Feb-2018      Current                   whole                 Cash   \n",
       "\n",
       "        balance  paid_total  paid_principal  paid_interest  paid_late_fees  \n",
       "0    27015.8600   1999.3300        984.1400      1015.1900          0.0000  \n",
       "1     4651.3700    499.1200        348.6300       150.4900          0.0000  \n",
       "2     1824.6300    281.8000        175.3700       106.4300          0.0000  \n",
       "3    18853.2600   3312.8900       2746.7400       566.1500          0.0000  \n",
       "4    21430.1500   2324.6500       1569.8500       754.8000          0.0000  \n",
       "9995 21586.3400   2969.8000       2413.6600       556.1400          0.0000  \n",
       "9996  9147.4400   1456.3100        852.5600       603.7500          0.0000  \n",
       "9997 27617.6500   4620.8000       2382.3500      2238.4500          0.0000  \n",
       "9998 21518.1200   2873.3100       2481.8800       391.4300          0.0000  \n",
       "9999 11574.8300   1658.5600       1225.1700       433.3900          0.0000  \n",
       "\n",
       "[10 rows x 55 columns]"
      ]
     },
     "execution_count": 5,
     "metadata": {},
     "output_type": "execute_result"
    }
   ],
   "source": [
    "data.head(5).append(data.tail(5))"
   ]
  },
  {
   "cell_type": "code",
   "execution_count": 6,
   "metadata": {},
   "outputs": [],
   "source": [
    "meta_dict = []\n",
    "for col in data.columns:\n",
    "    # if data[col].dtype == 'int64':\n",
    "    #     ordinal_cols.append(col)\n",
    "    type = data[col].dtype\n",
    "    unique = 0\n",
    "    if type == 'object':\n",
    "        unique = len(data[col].unique())\n",
    "    NAs = data[col].isnull().sum()\n",
    "    NA_prop = NAs / len(data[col]) * 100\n",
    "    dict_tmp = {'Name': col, 'Type': type, 'Unique': unique, 'NAs': NAs, 'NA%': NA_prop}\n",
    "    meta_dict.append(dict_tmp)"
   ]
  },
  {
   "cell_type": "code",
   "execution_count": 7,
   "metadata": {},
   "outputs": [],
   "source": [
    "meta = pd.DataFrame(meta_dict)\n",
    "meta = meta.set_index('Name').drop('interest_rate')"
   ]
  },
  {
   "cell_type": "code",
   "execution_count": 8,
   "metadata": {},
   "outputs": [
    {
     "data": {
      "text/html": [
       "<div>\n",
       "<style scoped>\n",
       "    .dataframe tbody tr th:only-of-type {\n",
       "        vertical-align: middle;\n",
       "    }\n",
       "\n",
       "    .dataframe tbody tr th {\n",
       "        vertical-align: top;\n",
       "    }\n",
       "\n",
       "    .dataframe thead th {\n",
       "        text-align: right;\n",
       "    }\n",
       "</style>\n",
       "<table border=\"1\" class=\"dataframe\">\n",
       "  <thead>\n",
       "    <tr style=\"text-align: right;\">\n",
       "      <th></th>\n",
       "      <th>Type</th>\n",
       "      <th>Unique</th>\n",
       "      <th>NAs</th>\n",
       "      <th>NA%</th>\n",
       "    </tr>\n",
       "    <tr>\n",
       "      <th>Name</th>\n",
       "      <th></th>\n",
       "      <th></th>\n",
       "      <th></th>\n",
       "      <th></th>\n",
       "    </tr>\n",
       "  </thead>\n",
       "  <tbody>\n",
       "    <tr>\n",
       "      <th>verification_income_joint</th>\n",
       "      <td>object</td>\n",
       "      <td>4</td>\n",
       "      <td>8545</td>\n",
       "      <td>85.4500</td>\n",
       "    </tr>\n",
       "    <tr>\n",
       "      <th>debt_to_income_joint</th>\n",
       "      <td>float64</td>\n",
       "      <td>0</td>\n",
       "      <td>8505</td>\n",
       "      <td>85.0500</td>\n",
       "    </tr>\n",
       "    <tr>\n",
       "      <th>annual_income_joint</th>\n",
       "      <td>float64</td>\n",
       "      <td>0</td>\n",
       "      <td>8505</td>\n",
       "      <td>85.0500</td>\n",
       "    </tr>\n",
       "    <tr>\n",
       "      <th>months_since_90d_late</th>\n",
       "      <td>float64</td>\n",
       "      <td>0</td>\n",
       "      <td>7715</td>\n",
       "      <td>77.1500</td>\n",
       "    </tr>\n",
       "    <tr>\n",
       "      <th>months_since_last_delinq</th>\n",
       "      <td>float64</td>\n",
       "      <td>0</td>\n",
       "      <td>5658</td>\n",
       "      <td>56.5800</td>\n",
       "    </tr>\n",
       "    <tr>\n",
       "      <th>months_since_last_credit_inquiry</th>\n",
       "      <td>float64</td>\n",
       "      <td>0</td>\n",
       "      <td>1271</td>\n",
       "      <td>12.7100</td>\n",
       "    </tr>\n",
       "    <tr>\n",
       "      <th>emp_title</th>\n",
       "      <td>object</td>\n",
       "      <td>4742</td>\n",
       "      <td>833</td>\n",
       "      <td>8.3300</td>\n",
       "    </tr>\n",
       "    <tr>\n",
       "      <th>emp_length</th>\n",
       "      <td>float64</td>\n",
       "      <td>0</td>\n",
       "      <td>817</td>\n",
       "      <td>8.1700</td>\n",
       "    </tr>\n",
       "    <tr>\n",
       "      <th>num_accounts_120d_past_due</th>\n",
       "      <td>float64</td>\n",
       "      <td>0</td>\n",
       "      <td>318</td>\n",
       "      <td>3.1800</td>\n",
       "    </tr>\n",
       "    <tr>\n",
       "      <th>debt_to_income</th>\n",
       "      <td>float64</td>\n",
       "      <td>0</td>\n",
       "      <td>24</td>\n",
       "      <td>0.2400</td>\n",
       "    </tr>\n",
       "    <tr>\n",
       "      <th>num_open_cc_accounts</th>\n",
       "      <td>int64</td>\n",
       "      <td>0</td>\n",
       "      <td>0</td>\n",
       "      <td>0.0000</td>\n",
       "    </tr>\n",
       "    <tr>\n",
       "      <th>num_mort_accounts</th>\n",
       "      <td>int64</td>\n",
       "      <td>0</td>\n",
       "      <td>0</td>\n",
       "      <td>0.0000</td>\n",
       "    </tr>\n",
       "    <tr>\n",
       "      <th>account_never_delinq_percent</th>\n",
       "      <td>float64</td>\n",
       "      <td>0</td>\n",
       "      <td>0</td>\n",
       "      <td>0.0000</td>\n",
       "    </tr>\n",
       "    <tr>\n",
       "      <th>tax_liens</th>\n",
       "      <td>int64</td>\n",
       "      <td>0</td>\n",
       "      <td>0</td>\n",
       "      <td>0.0000</td>\n",
       "    </tr>\n",
       "    <tr>\n",
       "      <th>public_record_bankrupt</th>\n",
       "      <td>int64</td>\n",
       "      <td>0</td>\n",
       "      <td>0</td>\n",
       "      <td>0.0000</td>\n",
       "    </tr>\n",
       "    <tr>\n",
       "      <th>loan_purpose</th>\n",
       "      <td>object</td>\n",
       "      <td>12</td>\n",
       "      <td>0</td>\n",
       "      <td>0.0000</td>\n",
       "    </tr>\n",
       "    <tr>\n",
       "      <th>application_type</th>\n",
       "      <td>object</td>\n",
       "      <td>2</td>\n",
       "      <td>0</td>\n",
       "      <td>0.0000</td>\n",
       "    </tr>\n",
       "    <tr>\n",
       "      <th>loan_amount</th>\n",
       "      <td>int64</td>\n",
       "      <td>0</td>\n",
       "      <td>0</td>\n",
       "      <td>0.0000</td>\n",
       "    </tr>\n",
       "    <tr>\n",
       "      <th>term</th>\n",
       "      <td>int64</td>\n",
       "      <td>0</td>\n",
       "      <td>0</td>\n",
       "      <td>0.0000</td>\n",
       "    </tr>\n",
       "    <tr>\n",
       "      <th>installment</th>\n",
       "      <td>float64</td>\n",
       "      <td>0</td>\n",
       "      <td>0</td>\n",
       "      <td>0.0000</td>\n",
       "    </tr>\n",
       "    <tr>\n",
       "      <th>grade</th>\n",
       "      <td>object</td>\n",
       "      <td>7</td>\n",
       "      <td>0</td>\n",
       "      <td>0.0000</td>\n",
       "    </tr>\n",
       "    <tr>\n",
       "      <th>sub_grade</th>\n",
       "      <td>object</td>\n",
       "      <td>32</td>\n",
       "      <td>0</td>\n",
       "      <td>0.0000</td>\n",
       "    </tr>\n",
       "    <tr>\n",
       "      <th>issue_month</th>\n",
       "      <td>object</td>\n",
       "      <td>3</td>\n",
       "      <td>0</td>\n",
       "      <td>0.0000</td>\n",
       "    </tr>\n",
       "    <tr>\n",
       "      <th>loan_status</th>\n",
       "      <td>object</td>\n",
       "      <td>6</td>\n",
       "      <td>0</td>\n",
       "      <td>0.0000</td>\n",
       "    </tr>\n",
       "    <tr>\n",
       "      <th>initial_listing_status</th>\n",
       "      <td>object</td>\n",
       "      <td>2</td>\n",
       "      <td>0</td>\n",
       "      <td>0.0000</td>\n",
       "    </tr>\n",
       "    <tr>\n",
       "      <th>disbursement_method</th>\n",
       "      <td>object</td>\n",
       "      <td>2</td>\n",
       "      <td>0</td>\n",
       "      <td>0.0000</td>\n",
       "    </tr>\n",
       "    <tr>\n",
       "      <th>balance</th>\n",
       "      <td>float64</td>\n",
       "      <td>0</td>\n",
       "      <td>0</td>\n",
       "      <td>0.0000</td>\n",
       "    </tr>\n",
       "    <tr>\n",
       "      <th>paid_total</th>\n",
       "      <td>float64</td>\n",
       "      <td>0</td>\n",
       "      <td>0</td>\n",
       "      <td>0.0000</td>\n",
       "    </tr>\n",
       "    <tr>\n",
       "      <th>paid_principal</th>\n",
       "      <td>float64</td>\n",
       "      <td>0</td>\n",
       "      <td>0</td>\n",
       "      <td>0.0000</td>\n",
       "    </tr>\n",
       "    <tr>\n",
       "      <th>paid_interest</th>\n",
       "      <td>float64</td>\n",
       "      <td>0</td>\n",
       "      <td>0</td>\n",
       "      <td>0.0000</td>\n",
       "    </tr>\n",
       "    <tr>\n",
       "      <th>num_cc_carrying_balance</th>\n",
       "      <td>int64</td>\n",
       "      <td>0</td>\n",
       "      <td>0</td>\n",
       "      <td>0.0000</td>\n",
       "    </tr>\n",
       "    <tr>\n",
       "      <th>num_total_cc_accounts</th>\n",
       "      <td>int64</td>\n",
       "      <td>0</td>\n",
       "      <td>0</td>\n",
       "      <td>0.0000</td>\n",
       "    </tr>\n",
       "    <tr>\n",
       "      <th>delinq_2y</th>\n",
       "      <td>int64</td>\n",
       "      <td>0</td>\n",
       "      <td>0</td>\n",
       "      <td>0.0000</td>\n",
       "    </tr>\n",
       "    <tr>\n",
       "      <th>total_debit_limit</th>\n",
       "      <td>int64</td>\n",
       "      <td>0</td>\n",
       "      <td>0</td>\n",
       "      <td>0.0000</td>\n",
       "    </tr>\n",
       "    <tr>\n",
       "      <th>verified_income</th>\n",
       "      <td>object</td>\n",
       "      <td>3</td>\n",
       "      <td>0</td>\n",
       "      <td>0.0000</td>\n",
       "    </tr>\n",
       "    <tr>\n",
       "      <th>earliest_credit_line</th>\n",
       "      <td>int64</td>\n",
       "      <td>0</td>\n",
       "      <td>0</td>\n",
       "      <td>0.0000</td>\n",
       "    </tr>\n",
       "    <tr>\n",
       "      <th>inquiries_last_12m</th>\n",
       "      <td>int64</td>\n",
       "      <td>0</td>\n",
       "      <td>0</td>\n",
       "      <td>0.0000</td>\n",
       "    </tr>\n",
       "    <tr>\n",
       "      <th>total_credit_lines</th>\n",
       "      <td>int64</td>\n",
       "      <td>0</td>\n",
       "      <td>0</td>\n",
       "      <td>0.0000</td>\n",
       "    </tr>\n",
       "    <tr>\n",
       "      <th>open_credit_lines</th>\n",
       "      <td>int64</td>\n",
       "      <td>0</td>\n",
       "      <td>0</td>\n",
       "      <td>0.0000</td>\n",
       "    </tr>\n",
       "    <tr>\n",
       "      <th>total_credit_limit</th>\n",
       "      <td>int64</td>\n",
       "      <td>0</td>\n",
       "      <td>0</td>\n",
       "      <td>0.0000</td>\n",
       "    </tr>\n",
       "    <tr>\n",
       "      <th>total_credit_utilized</th>\n",
       "      <td>int64</td>\n",
       "      <td>0</td>\n",
       "      <td>0</td>\n",
       "      <td>0.0000</td>\n",
       "    </tr>\n",
       "    <tr>\n",
       "      <th>num_collections_last_12m</th>\n",
       "      <td>int64</td>\n",
       "      <td>0</td>\n",
       "      <td>0</td>\n",
       "      <td>0.0000</td>\n",
       "    </tr>\n",
       "    <tr>\n",
       "      <th>num_historical_failed_to_pay</th>\n",
       "      <td>int64</td>\n",
       "      <td>0</td>\n",
       "      <td>0</td>\n",
       "      <td>0.0000</td>\n",
       "    </tr>\n",
       "    <tr>\n",
       "      <th>annual_income</th>\n",
       "      <td>float64</td>\n",
       "      <td>0</td>\n",
       "      <td>0</td>\n",
       "      <td>0.0000</td>\n",
       "    </tr>\n",
       "    <tr>\n",
       "      <th>current_accounts_delinq</th>\n",
       "      <td>int64</td>\n",
       "      <td>0</td>\n",
       "      <td>0</td>\n",
       "      <td>0.0000</td>\n",
       "    </tr>\n",
       "    <tr>\n",
       "      <th>total_collection_amount_ever</th>\n",
       "      <td>int64</td>\n",
       "      <td>0</td>\n",
       "      <td>0</td>\n",
       "      <td>0.0000</td>\n",
       "    </tr>\n",
       "    <tr>\n",
       "      <th>current_installment_accounts</th>\n",
       "      <td>int64</td>\n",
       "      <td>0</td>\n",
       "      <td>0</td>\n",
       "      <td>0.0000</td>\n",
       "    </tr>\n",
       "    <tr>\n",
       "      <th>accounts_opened_24m</th>\n",
       "      <td>int64</td>\n",
       "      <td>0</td>\n",
       "      <td>0</td>\n",
       "      <td>0.0000</td>\n",
       "    </tr>\n",
       "    <tr>\n",
       "      <th>homeownership</th>\n",
       "      <td>object</td>\n",
       "      <td>3</td>\n",
       "      <td>0</td>\n",
       "      <td>0.0000</td>\n",
       "    </tr>\n",
       "    <tr>\n",
       "      <th>num_satisfactory_accounts</th>\n",
       "      <td>int64</td>\n",
       "      <td>0</td>\n",
       "      <td>0</td>\n",
       "      <td>0.0000</td>\n",
       "    </tr>\n",
       "    <tr>\n",
       "      <th>state</th>\n",
       "      <td>object</td>\n",
       "      <td>50</td>\n",
       "      <td>0</td>\n",
       "      <td>0.0000</td>\n",
       "    </tr>\n",
       "    <tr>\n",
       "      <th>num_accounts_30d_past_due</th>\n",
       "      <td>int64</td>\n",
       "      <td>0</td>\n",
       "      <td>0</td>\n",
       "      <td>0.0000</td>\n",
       "    </tr>\n",
       "    <tr>\n",
       "      <th>num_active_debit_accounts</th>\n",
       "      <td>int64</td>\n",
       "      <td>0</td>\n",
       "      <td>0</td>\n",
       "      <td>0.0000</td>\n",
       "    </tr>\n",
       "    <tr>\n",
       "      <th>paid_late_fees</th>\n",
       "      <td>float64</td>\n",
       "      <td>0</td>\n",
       "      <td>0</td>\n",
       "      <td>0.0000</td>\n",
       "    </tr>\n",
       "  </tbody>\n",
       "</table>\n",
       "</div>"
      ],
      "text/plain": [
       "                                     Type  Unique   NAs     NA%\n",
       "Name                                                           \n",
       "verification_income_joint          object       4  8545 85.4500\n",
       "debt_to_income_joint              float64       0  8505 85.0500\n",
       "annual_income_joint               float64       0  8505 85.0500\n",
       "months_since_90d_late             float64       0  7715 77.1500\n",
       "months_since_last_delinq          float64       0  5658 56.5800\n",
       "months_since_last_credit_inquiry  float64       0  1271 12.7100\n",
       "emp_title                          object    4742   833  8.3300\n",
       "emp_length                        float64       0   817  8.1700\n",
       "num_accounts_120d_past_due        float64       0   318  3.1800\n",
       "debt_to_income                    float64       0    24  0.2400\n",
       "num_open_cc_accounts                int64       0     0  0.0000\n",
       "num_mort_accounts                   int64       0     0  0.0000\n",
       "account_never_delinq_percent      float64       0     0  0.0000\n",
       "tax_liens                           int64       0     0  0.0000\n",
       "public_record_bankrupt              int64       0     0  0.0000\n",
       "loan_purpose                       object      12     0  0.0000\n",
       "application_type                   object       2     0  0.0000\n",
       "loan_amount                         int64       0     0  0.0000\n",
       "term                                int64       0     0  0.0000\n",
       "installment                       float64       0     0  0.0000\n",
       "grade                              object       7     0  0.0000\n",
       "sub_grade                          object      32     0  0.0000\n",
       "issue_month                        object       3     0  0.0000\n",
       "loan_status                        object       6     0  0.0000\n",
       "initial_listing_status             object       2     0  0.0000\n",
       "disbursement_method                object       2     0  0.0000\n",
       "balance                           float64       0     0  0.0000\n",
       "paid_total                        float64       0     0  0.0000\n",
       "paid_principal                    float64       0     0  0.0000\n",
       "paid_interest                     float64       0     0  0.0000\n",
       "num_cc_carrying_balance             int64       0     0  0.0000\n",
       "num_total_cc_accounts               int64       0     0  0.0000\n",
       "delinq_2y                           int64       0     0  0.0000\n",
       "total_debit_limit                   int64       0     0  0.0000\n",
       "verified_income                    object       3     0  0.0000\n",
       "earliest_credit_line                int64       0     0  0.0000\n",
       "inquiries_last_12m                  int64       0     0  0.0000\n",
       "total_credit_lines                  int64       0     0  0.0000\n",
       "open_credit_lines                   int64       0     0  0.0000\n",
       "total_credit_limit                  int64       0     0  0.0000\n",
       "total_credit_utilized               int64       0     0  0.0000\n",
       "num_collections_last_12m            int64       0     0  0.0000\n",
       "num_historical_failed_to_pay        int64       0     0  0.0000\n",
       "annual_income                     float64       0     0  0.0000\n",
       "current_accounts_delinq             int64       0     0  0.0000\n",
       "total_collection_amount_ever        int64       0     0  0.0000\n",
       "current_installment_accounts        int64       0     0  0.0000\n",
       "accounts_opened_24m                 int64       0     0  0.0000\n",
       "homeownership                      object       3     0  0.0000\n",
       "num_satisfactory_accounts           int64       0     0  0.0000\n",
       "state                              object      50     0  0.0000\n",
       "num_accounts_30d_past_due           int64       0     0  0.0000\n",
       "num_active_debit_accounts           int64       0     0  0.0000\n",
       "paid_late_fees                    float64       0     0  0.0000"
      ]
     },
     "execution_count": 8,
     "metadata": {},
     "output_type": "execute_result"
    }
   ],
   "source": [
    "meta.sort_values('NA%', ascending=False)"
   ]
  },
  {
   "cell_type": "code",
   "execution_count": 9,
   "metadata": {},
   "outputs": [
    {
     "data": {
      "text/plain": [
       "Index(['annual_income_joint', 'verification_income_joint',\n",
       "       'debt_to_income_joint', 'months_since_last_delinq',\n",
       "       'months_since_90d_late'],\n",
       "      dtype='object', name='Name')"
      ]
     },
     "execution_count": 9,
     "metadata": {},
     "output_type": "execute_result"
    }
   ],
   "source": [
    "# column names of columns having more than 50% missing values\n",
    "high_NA = meta[meta['NA%'] > 50].index\n",
    "high_NA"
   ]
  },
  {
   "cell_type": "code",
   "execution_count": 10,
   "metadata": {},
   "outputs": [],
   "source": [
    "meta_new = meta[meta['NA%'] <= 50]\n",
    "# meta_new.sort_values('NA%', ascending=False)"
   ]
  },
  {
   "cell_type": "code",
   "execution_count": 11,
   "metadata": {},
   "outputs": [
    {
     "data": {
      "text/html": [
       "<div>\n",
       "<style scoped>\n",
       "    .dataframe tbody tr th:only-of-type {\n",
       "        vertical-align: middle;\n",
       "    }\n",
       "\n",
       "    .dataframe tbody tr th {\n",
       "        vertical-align: top;\n",
       "    }\n",
       "\n",
       "    .dataframe thead th {\n",
       "        text-align: right;\n",
       "    }\n",
       "</style>\n",
       "<table border=\"1\" class=\"dataframe\">\n",
       "  <thead>\n",
       "    <tr style=\"text-align: right;\">\n",
       "      <th></th>\n",
       "      <th>Number of variables</th>\n",
       "    </tr>\n",
       "    <tr>\n",
       "      <th>Type</th>\n",
       "      <th></th>\n",
       "    </tr>\n",
       "  </thead>\n",
       "  <tbody>\n",
       "    <tr>\n",
       "      <th>int64</th>\n",
       "      <td>25</td>\n",
       "    </tr>\n",
       "    <tr>\n",
       "      <th>float64</th>\n",
       "      <td>12</td>\n",
       "    </tr>\n",
       "    <tr>\n",
       "      <th>object</th>\n",
       "      <td>12</td>\n",
       "    </tr>\n",
       "  </tbody>\n",
       "</table>\n",
       "</div>"
      ],
      "text/plain": [
       "         Number of variables\n",
       "Type                        \n",
       "int64                     25\n",
       "float64                   12\n",
       "object                    12"
      ]
     },
     "execution_count": 11,
     "metadata": {},
     "output_type": "execute_result"
    }
   ],
   "source": [
    "pd.DataFrame({'Number of variables': meta_new.groupby('Type').size()})"
   ]
  },
  {
   "cell_type": "code",
   "execution_count": 12,
   "metadata": {},
   "outputs": [
    {
     "data": {
      "text/html": [
       "<div>\n",
       "<style scoped>\n",
       "    .dataframe tbody tr th:only-of-type {\n",
       "        vertical-align: middle;\n",
       "    }\n",
       "\n",
       "    .dataframe tbody tr th {\n",
       "        vertical-align: top;\n",
       "    }\n",
       "\n",
       "    .dataframe thead th {\n",
       "        text-align: right;\n",
       "    }\n",
       "</style>\n",
       "<table border=\"1\" class=\"dataframe\">\n",
       "  <thead>\n",
       "    <tr style=\"text-align: right;\">\n",
       "      <th></th>\n",
       "      <th>Type</th>\n",
       "      <th>Unique</th>\n",
       "      <th>NAs</th>\n",
       "      <th>NA%</th>\n",
       "    </tr>\n",
       "    <tr>\n",
       "      <th>Name</th>\n",
       "      <th></th>\n",
       "      <th></th>\n",
       "      <th></th>\n",
       "      <th></th>\n",
       "    </tr>\n",
       "  </thead>\n",
       "  <tbody>\n",
       "    <tr>\n",
       "      <th>months_since_last_credit_inquiry</th>\n",
       "      <td>float64</td>\n",
       "      <td>0</td>\n",
       "      <td>1271</td>\n",
       "      <td>12.7100</td>\n",
       "    </tr>\n",
       "    <tr>\n",
       "      <th>emp_title</th>\n",
       "      <td>object</td>\n",
       "      <td>4742</td>\n",
       "      <td>833</td>\n",
       "      <td>8.3300</td>\n",
       "    </tr>\n",
       "    <tr>\n",
       "      <th>emp_length</th>\n",
       "      <td>float64</td>\n",
       "      <td>0</td>\n",
       "      <td>817</td>\n",
       "      <td>8.1700</td>\n",
       "    </tr>\n",
       "    <tr>\n",
       "      <th>num_accounts_120d_past_due</th>\n",
       "      <td>float64</td>\n",
       "      <td>0</td>\n",
       "      <td>318</td>\n",
       "      <td>3.1800</td>\n",
       "    </tr>\n",
       "    <tr>\n",
       "      <th>debt_to_income</th>\n",
       "      <td>float64</td>\n",
       "      <td>0</td>\n",
       "      <td>24</td>\n",
       "      <td>0.2400</td>\n",
       "    </tr>\n",
       "    <tr>\n",
       "      <th>term</th>\n",
       "      <td>int64</td>\n",
       "      <td>0</td>\n",
       "      <td>0</td>\n",
       "      <td>0.0000</td>\n",
       "    </tr>\n",
       "    <tr>\n",
       "      <th>num_mort_accounts</th>\n",
       "      <td>int64</td>\n",
       "      <td>0</td>\n",
       "      <td>0</td>\n",
       "      <td>0.0000</td>\n",
       "    </tr>\n",
       "    <tr>\n",
       "      <th>account_never_delinq_percent</th>\n",
       "      <td>float64</td>\n",
       "      <td>0</td>\n",
       "      <td>0</td>\n",
       "      <td>0.0000</td>\n",
       "    </tr>\n",
       "    <tr>\n",
       "      <th>tax_liens</th>\n",
       "      <td>int64</td>\n",
       "      <td>0</td>\n",
       "      <td>0</td>\n",
       "      <td>0.0000</td>\n",
       "    </tr>\n",
       "    <tr>\n",
       "      <th>public_record_bankrupt</th>\n",
       "      <td>int64</td>\n",
       "      <td>0</td>\n",
       "      <td>0</td>\n",
       "      <td>0.0000</td>\n",
       "    </tr>\n",
       "    <tr>\n",
       "      <th>loan_purpose</th>\n",
       "      <td>object</td>\n",
       "      <td>12</td>\n",
       "      <td>0</td>\n",
       "      <td>0.0000</td>\n",
       "    </tr>\n",
       "    <tr>\n",
       "      <th>application_type</th>\n",
       "      <td>object</td>\n",
       "      <td>2</td>\n",
       "      <td>0</td>\n",
       "      <td>0.0000</td>\n",
       "    </tr>\n",
       "    <tr>\n",
       "      <th>loan_amount</th>\n",
       "      <td>int64</td>\n",
       "      <td>0</td>\n",
       "      <td>0</td>\n",
       "      <td>0.0000</td>\n",
       "    </tr>\n",
       "    <tr>\n",
       "      <th>installment</th>\n",
       "      <td>float64</td>\n",
       "      <td>0</td>\n",
       "      <td>0</td>\n",
       "      <td>0.0000</td>\n",
       "    </tr>\n",
       "    <tr>\n",
       "      <th>num_open_cc_accounts</th>\n",
       "      <td>int64</td>\n",
       "      <td>0</td>\n",
       "      <td>0</td>\n",
       "      <td>0.0000</td>\n",
       "    </tr>\n",
       "    <tr>\n",
       "      <th>grade</th>\n",
       "      <td>object</td>\n",
       "      <td>7</td>\n",
       "      <td>0</td>\n",
       "      <td>0.0000</td>\n",
       "    </tr>\n",
       "    <tr>\n",
       "      <th>sub_grade</th>\n",
       "      <td>object</td>\n",
       "      <td>32</td>\n",
       "      <td>0</td>\n",
       "      <td>0.0000</td>\n",
       "    </tr>\n",
       "    <tr>\n",
       "      <th>issue_month</th>\n",
       "      <td>object</td>\n",
       "      <td>3</td>\n",
       "      <td>0</td>\n",
       "      <td>0.0000</td>\n",
       "    </tr>\n",
       "    <tr>\n",
       "      <th>loan_status</th>\n",
       "      <td>object</td>\n",
       "      <td>6</td>\n",
       "      <td>0</td>\n",
       "      <td>0.0000</td>\n",
       "    </tr>\n",
       "    <tr>\n",
       "      <th>initial_listing_status</th>\n",
       "      <td>object</td>\n",
       "      <td>2</td>\n",
       "      <td>0</td>\n",
       "      <td>0.0000</td>\n",
       "    </tr>\n",
       "    <tr>\n",
       "      <th>disbursement_method</th>\n",
       "      <td>object</td>\n",
       "      <td>2</td>\n",
       "      <td>0</td>\n",
       "      <td>0.0000</td>\n",
       "    </tr>\n",
       "    <tr>\n",
       "      <th>balance</th>\n",
       "      <td>float64</td>\n",
       "      <td>0</td>\n",
       "      <td>0</td>\n",
       "      <td>0.0000</td>\n",
       "    </tr>\n",
       "    <tr>\n",
       "      <th>paid_total</th>\n",
       "      <td>float64</td>\n",
       "      <td>0</td>\n",
       "      <td>0</td>\n",
       "      <td>0.0000</td>\n",
       "    </tr>\n",
       "    <tr>\n",
       "      <th>paid_principal</th>\n",
       "      <td>float64</td>\n",
       "      <td>0</td>\n",
       "      <td>0</td>\n",
       "      <td>0.0000</td>\n",
       "    </tr>\n",
       "    <tr>\n",
       "      <th>paid_interest</th>\n",
       "      <td>float64</td>\n",
       "      <td>0</td>\n",
       "      <td>0</td>\n",
       "      <td>0.0000</td>\n",
       "    </tr>\n",
       "    <tr>\n",
       "      <th>num_cc_carrying_balance</th>\n",
       "      <td>int64</td>\n",
       "      <td>0</td>\n",
       "      <td>0</td>\n",
       "      <td>0.0000</td>\n",
       "    </tr>\n",
       "    <tr>\n",
       "      <th>num_active_debit_accounts</th>\n",
       "      <td>int64</td>\n",
       "      <td>0</td>\n",
       "      <td>0</td>\n",
       "      <td>0.0000</td>\n",
       "    </tr>\n",
       "    <tr>\n",
       "      <th>num_total_cc_accounts</th>\n",
       "      <td>int64</td>\n",
       "      <td>0</td>\n",
       "      <td>0</td>\n",
       "      <td>0.0000</td>\n",
       "    </tr>\n",
       "    <tr>\n",
       "      <th>total_debit_limit</th>\n",
       "      <td>int64</td>\n",
       "      <td>0</td>\n",
       "      <td>0</td>\n",
       "      <td>0.0000</td>\n",
       "    </tr>\n",
       "    <tr>\n",
       "      <th>state</th>\n",
       "      <td>object</td>\n",
       "      <td>50</td>\n",
       "      <td>0</td>\n",
       "      <td>0.0000</td>\n",
       "    </tr>\n",
       "    <tr>\n",
       "      <th>homeownership</th>\n",
       "      <td>object</td>\n",
       "      <td>3</td>\n",
       "      <td>0</td>\n",
       "      <td>0.0000</td>\n",
       "    </tr>\n",
       "    <tr>\n",
       "      <th>annual_income</th>\n",
       "      <td>float64</td>\n",
       "      <td>0</td>\n",
       "      <td>0</td>\n",
       "      <td>0.0000</td>\n",
       "    </tr>\n",
       "    <tr>\n",
       "      <th>verified_income</th>\n",
       "      <td>object</td>\n",
       "      <td>3</td>\n",
       "      <td>0</td>\n",
       "      <td>0.0000</td>\n",
       "    </tr>\n",
       "    <tr>\n",
       "      <th>delinq_2y</th>\n",
       "      <td>int64</td>\n",
       "      <td>0</td>\n",
       "      <td>0</td>\n",
       "      <td>0.0000</td>\n",
       "    </tr>\n",
       "    <tr>\n",
       "      <th>earliest_credit_line</th>\n",
       "      <td>int64</td>\n",
       "      <td>0</td>\n",
       "      <td>0</td>\n",
       "      <td>0.0000</td>\n",
       "    </tr>\n",
       "    <tr>\n",
       "      <th>inquiries_last_12m</th>\n",
       "      <td>int64</td>\n",
       "      <td>0</td>\n",
       "      <td>0</td>\n",
       "      <td>0.0000</td>\n",
       "    </tr>\n",
       "    <tr>\n",
       "      <th>total_credit_lines</th>\n",
       "      <td>int64</td>\n",
       "      <td>0</td>\n",
       "      <td>0</td>\n",
       "      <td>0.0000</td>\n",
       "    </tr>\n",
       "    <tr>\n",
       "      <th>open_credit_lines</th>\n",
       "      <td>int64</td>\n",
       "      <td>0</td>\n",
       "      <td>0</td>\n",
       "      <td>0.0000</td>\n",
       "    </tr>\n",
       "    <tr>\n",
       "      <th>total_credit_limit</th>\n",
       "      <td>int64</td>\n",
       "      <td>0</td>\n",
       "      <td>0</td>\n",
       "      <td>0.0000</td>\n",
       "    </tr>\n",
       "    <tr>\n",
       "      <th>total_credit_utilized</th>\n",
       "      <td>int64</td>\n",
       "      <td>0</td>\n",
       "      <td>0</td>\n",
       "      <td>0.0000</td>\n",
       "    </tr>\n",
       "    <tr>\n",
       "      <th>num_collections_last_12m</th>\n",
       "      <td>int64</td>\n",
       "      <td>0</td>\n",
       "      <td>0</td>\n",
       "      <td>0.0000</td>\n",
       "    </tr>\n",
       "    <tr>\n",
       "      <th>num_historical_failed_to_pay</th>\n",
       "      <td>int64</td>\n",
       "      <td>0</td>\n",
       "      <td>0</td>\n",
       "      <td>0.0000</td>\n",
       "    </tr>\n",
       "    <tr>\n",
       "      <th>current_accounts_delinq</th>\n",
       "      <td>int64</td>\n",
       "      <td>0</td>\n",
       "      <td>0</td>\n",
       "      <td>0.0000</td>\n",
       "    </tr>\n",
       "    <tr>\n",
       "      <th>total_collection_amount_ever</th>\n",
       "      <td>int64</td>\n",
       "      <td>0</td>\n",
       "      <td>0</td>\n",
       "      <td>0.0000</td>\n",
       "    </tr>\n",
       "    <tr>\n",
       "      <th>current_installment_accounts</th>\n",
       "      <td>int64</td>\n",
       "      <td>0</td>\n",
       "      <td>0</td>\n",
       "      <td>0.0000</td>\n",
       "    </tr>\n",
       "    <tr>\n",
       "      <th>accounts_opened_24m</th>\n",
       "      <td>int64</td>\n",
       "      <td>0</td>\n",
       "      <td>0</td>\n",
       "      <td>0.0000</td>\n",
       "    </tr>\n",
       "    <tr>\n",
       "      <th>num_satisfactory_accounts</th>\n",
       "      <td>int64</td>\n",
       "      <td>0</td>\n",
       "      <td>0</td>\n",
       "      <td>0.0000</td>\n",
       "    </tr>\n",
       "    <tr>\n",
       "      <th>num_accounts_30d_past_due</th>\n",
       "      <td>int64</td>\n",
       "      <td>0</td>\n",
       "      <td>0</td>\n",
       "      <td>0.0000</td>\n",
       "    </tr>\n",
       "    <tr>\n",
       "      <th>paid_late_fees</th>\n",
       "      <td>float64</td>\n",
       "      <td>0</td>\n",
       "      <td>0</td>\n",
       "      <td>0.0000</td>\n",
       "    </tr>\n",
       "  </tbody>\n",
       "</table>\n",
       "</div>"
      ],
      "text/plain": [
       "                                     Type  Unique   NAs     NA%\n",
       "Name                                                           \n",
       "months_since_last_credit_inquiry  float64       0  1271 12.7100\n",
       "emp_title                          object    4742   833  8.3300\n",
       "emp_length                        float64       0   817  8.1700\n",
       "num_accounts_120d_past_due        float64       0   318  3.1800\n",
       "debt_to_income                    float64       0    24  0.2400\n",
       "term                                int64       0     0  0.0000\n",
       "num_mort_accounts                   int64       0     0  0.0000\n",
       "account_never_delinq_percent      float64       0     0  0.0000\n",
       "tax_liens                           int64       0     0  0.0000\n",
       "public_record_bankrupt              int64       0     0  0.0000\n",
       "loan_purpose                       object      12     0  0.0000\n",
       "application_type                   object       2     0  0.0000\n",
       "loan_amount                         int64       0     0  0.0000\n",
       "installment                       float64       0     0  0.0000\n",
       "num_open_cc_accounts                int64       0     0  0.0000\n",
       "grade                              object       7     0  0.0000\n",
       "sub_grade                          object      32     0  0.0000\n",
       "issue_month                        object       3     0  0.0000\n",
       "loan_status                        object       6     0  0.0000\n",
       "initial_listing_status             object       2     0  0.0000\n",
       "disbursement_method                object       2     0  0.0000\n",
       "balance                           float64       0     0  0.0000\n",
       "paid_total                        float64       0     0  0.0000\n",
       "paid_principal                    float64       0     0  0.0000\n",
       "paid_interest                     float64       0     0  0.0000\n",
       "num_cc_carrying_balance             int64       0     0  0.0000\n",
       "num_active_debit_accounts           int64       0     0  0.0000\n",
       "num_total_cc_accounts               int64       0     0  0.0000\n",
       "total_debit_limit                   int64       0     0  0.0000\n",
       "state                              object      50     0  0.0000\n",
       "homeownership                      object       3     0  0.0000\n",
       "annual_income                     float64       0     0  0.0000\n",
       "verified_income                    object       3     0  0.0000\n",
       "delinq_2y                           int64       0     0  0.0000\n",
       "earliest_credit_line                int64       0     0  0.0000\n",
       "inquiries_last_12m                  int64       0     0  0.0000\n",
       "total_credit_lines                  int64       0     0  0.0000\n",
       "open_credit_lines                   int64       0     0  0.0000\n",
       "total_credit_limit                  int64       0     0  0.0000\n",
       "total_credit_utilized               int64       0     0  0.0000\n",
       "num_collections_last_12m            int64       0     0  0.0000\n",
       "num_historical_failed_to_pay        int64       0     0  0.0000\n",
       "current_accounts_delinq             int64       0     0  0.0000\n",
       "total_collection_amount_ever        int64       0     0  0.0000\n",
       "current_installment_accounts        int64       0     0  0.0000\n",
       "accounts_opened_24m                 int64       0     0  0.0000\n",
       "num_satisfactory_accounts           int64       0     0  0.0000\n",
       "num_accounts_30d_past_due           int64       0     0  0.0000\n",
       "paid_late_fees                    float64       0     0  0.0000"
      ]
     },
     "execution_count": 12,
     "metadata": {},
     "output_type": "execute_result"
    }
   ],
   "source": [
    "meta_new.sort_values('NA%', ascending=False)"
   ]
  },
  {
   "cell_type": "code",
   "execution_count": 13,
   "metadata": {},
   "outputs": [
    {
     "data": {
      "text/plain": [
       "(48, 4)"
      ]
     },
     "execution_count": 13,
     "metadata": {},
     "output_type": "execute_result"
    }
   ],
   "source": [
    "# `emp_title` has too many unique text values, so I drop it\n",
    "meta_new = meta_new.drop('emp_title')\n",
    "meta_new.shape"
   ]
  },
  {
   "cell_type": "markdown",
   "metadata": {},
   "source": [
    "### Statistical Attributes of Variables"
   ]
  },
  {
   "cell_type": "code",
   "execution_count": 14,
   "metadata": {},
   "outputs": [
    {
     "data": {
      "text/html": [
       "<div>\n",
       "<style scoped>\n",
       "    .dataframe tbody tr th:only-of-type {\n",
       "        vertical-align: middle;\n",
       "    }\n",
       "\n",
       "    .dataframe tbody tr th {\n",
       "        vertical-align: top;\n",
       "    }\n",
       "\n",
       "    .dataframe thead th {\n",
       "        text-align: right;\n",
       "    }\n",
       "</style>\n",
       "<table border=\"1\" class=\"dataframe\">\n",
       "  <thead>\n",
       "    <tr style=\"text-align: right;\">\n",
       "      <th></th>\n",
       "      <th>count</th>\n",
       "      <th>mean</th>\n",
       "      <th>std</th>\n",
       "      <th>min</th>\n",
       "      <th>25%</th>\n",
       "      <th>50%</th>\n",
       "      <th>75%</th>\n",
       "      <th>max</th>\n",
       "    </tr>\n",
       "  </thead>\n",
       "  <tbody>\n",
       "    <tr>\n",
       "      <th>emp_length</th>\n",
       "      <td>9183.0000</td>\n",
       "      <td>5.9303</td>\n",
       "      <td>3.7037</td>\n",
       "      <td>0.0000</td>\n",
       "      <td>2.0000</td>\n",
       "      <td>6.0000</td>\n",
       "      <td>10.0000</td>\n",
       "      <td>10.0000</td>\n",
       "    </tr>\n",
       "    <tr>\n",
       "      <th>annual_income</th>\n",
       "      <td>10000.0000</td>\n",
       "      <td>79222.1484</td>\n",
       "      <td>64734.2905</td>\n",
       "      <td>0.0000</td>\n",
       "      <td>45000.0000</td>\n",
       "      <td>65000.0000</td>\n",
       "      <td>95000.0000</td>\n",
       "      <td>2300000.0000</td>\n",
       "    </tr>\n",
       "    <tr>\n",
       "      <th>debt_to_income</th>\n",
       "      <td>9976.0000</td>\n",
       "      <td>19.3082</td>\n",
       "      <td>15.0049</td>\n",
       "      <td>0.0000</td>\n",
       "      <td>11.0575</td>\n",
       "      <td>17.5700</td>\n",
       "      <td>25.0025</td>\n",
       "      <td>469.0900</td>\n",
       "    </tr>\n",
       "    <tr>\n",
       "      <th>months_since_last_credit_inquiry</th>\n",
       "      <td>8729.0000</td>\n",
       "      <td>7.3407</td>\n",
       "      <td>5.9816</td>\n",
       "      <td>0.0000</td>\n",
       "      <td>2.0000</td>\n",
       "      <td>6.0000</td>\n",
       "      <td>11.0000</td>\n",
       "      <td>24.0000</td>\n",
       "    </tr>\n",
       "    <tr>\n",
       "      <th>num_accounts_120d_past_due</th>\n",
       "      <td>9682.0000</td>\n",
       "      <td>0.0000</td>\n",
       "      <td>0.0000</td>\n",
       "      <td>0.0000</td>\n",
       "      <td>0.0000</td>\n",
       "      <td>0.0000</td>\n",
       "      <td>0.0000</td>\n",
       "      <td>0.0000</td>\n",
       "    </tr>\n",
       "    <tr>\n",
       "      <th>account_never_delinq_percent</th>\n",
       "      <td>10000.0000</td>\n",
       "      <td>94.6490</td>\n",
       "      <td>9.1551</td>\n",
       "      <td>14.3000</td>\n",
       "      <td>92.6000</td>\n",
       "      <td>100.0000</td>\n",
       "      <td>100.0000</td>\n",
       "      <td>100.0000</td>\n",
       "    </tr>\n",
       "    <tr>\n",
       "      <th>installment</th>\n",
       "      <td>10000.0000</td>\n",
       "      <td>476.2053</td>\n",
       "      <td>294.8516</td>\n",
       "      <td>30.7500</td>\n",
       "      <td>256.0400</td>\n",
       "      <td>398.4200</td>\n",
       "      <td>644.6900</td>\n",
       "      <td>1566.5900</td>\n",
       "    </tr>\n",
       "    <tr>\n",
       "      <th>balance</th>\n",
       "      <td>10000.0000</td>\n",
       "      <td>14458.9166</td>\n",
       "      <td>9964.5619</td>\n",
       "      <td>0.0000</td>\n",
       "      <td>6679.0650</td>\n",
       "      <td>12379.4950</td>\n",
       "      <td>20690.1825</td>\n",
       "      <td>40000.0000</td>\n",
       "    </tr>\n",
       "    <tr>\n",
       "      <th>paid_total</th>\n",
       "      <td>10000.0000</td>\n",
       "      <td>2494.2348</td>\n",
       "      <td>3958.2304</td>\n",
       "      <td>0.0000</td>\n",
       "      <td>928.7000</td>\n",
       "      <td>1563.3000</td>\n",
       "      <td>2616.0050</td>\n",
       "      <td>41630.4437</td>\n",
       "    </tr>\n",
       "    <tr>\n",
       "      <th>paid_principal</th>\n",
       "      <td>10000.0000</td>\n",
       "      <td>1894.4485</td>\n",
       "      <td>3884.4072</td>\n",
       "      <td>0.0000</td>\n",
       "      <td>587.1000</td>\n",
       "      <td>984.9900</td>\n",
       "      <td>1694.5550</td>\n",
       "      <td>40000.0000</td>\n",
       "    </tr>\n",
       "    <tr>\n",
       "      <th>paid_interest</th>\n",
       "      <td>10000.0000</td>\n",
       "      <td>599.6668</td>\n",
       "      <td>517.3281</td>\n",
       "      <td>0.0000</td>\n",
       "      <td>221.7575</td>\n",
       "      <td>446.1400</td>\n",
       "      <td>825.4200</td>\n",
       "      <td>4216.4400</td>\n",
       "    </tr>\n",
       "    <tr>\n",
       "      <th>paid_late_fees</th>\n",
       "      <td>10000.0000</td>\n",
       "      <td>0.1195</td>\n",
       "      <td>1.8135</td>\n",
       "      <td>0.0000</td>\n",
       "      <td>0.0000</td>\n",
       "      <td>0.0000</td>\n",
       "      <td>0.0000</td>\n",
       "      <td>52.9800</td>\n",
       "    </tr>\n",
       "  </tbody>\n",
       "</table>\n",
       "</div>"
      ],
      "text/plain": [
       "                                      count       mean        std     min  \\\n",
       "emp_length                        9183.0000     5.9303     3.7037  0.0000   \n",
       "annual_income                    10000.0000 79222.1484 64734.2905  0.0000   \n",
       "debt_to_income                    9976.0000    19.3082    15.0049  0.0000   \n",
       "months_since_last_credit_inquiry  8729.0000     7.3407     5.9816  0.0000   \n",
       "num_accounts_120d_past_due        9682.0000     0.0000     0.0000  0.0000   \n",
       "account_never_delinq_percent     10000.0000    94.6490     9.1551 14.3000   \n",
       "installment                      10000.0000   476.2053   294.8516 30.7500   \n",
       "balance                          10000.0000 14458.9166  9964.5619  0.0000   \n",
       "paid_total                       10000.0000  2494.2348  3958.2304  0.0000   \n",
       "paid_principal                   10000.0000  1894.4485  3884.4072  0.0000   \n",
       "paid_interest                    10000.0000   599.6668   517.3281  0.0000   \n",
       "paid_late_fees                   10000.0000     0.1195     1.8135  0.0000   \n",
       "\n",
       "                                        25%        50%        75%          max  \n",
       "emp_length                           2.0000     6.0000    10.0000      10.0000  \n",
       "annual_income                    45000.0000 65000.0000 95000.0000 2300000.0000  \n",
       "debt_to_income                      11.0575    17.5700    25.0025     469.0900  \n",
       "months_since_last_credit_inquiry     2.0000     6.0000    11.0000      24.0000  \n",
       "num_accounts_120d_past_due           0.0000     0.0000     0.0000       0.0000  \n",
       "account_never_delinq_percent        92.6000   100.0000   100.0000     100.0000  \n",
       "installment                        256.0400   398.4200   644.6900    1566.5900  \n",
       "balance                           6679.0650 12379.4950 20690.1825   40000.0000  \n",
       "paid_total                         928.7000  1563.3000  2616.0050   41630.4437  \n",
       "paid_principal                     587.1000   984.9900  1694.5550   40000.0000  \n",
       "paid_interest                      221.7575   446.1400   825.4200    4216.4400  \n",
       "paid_late_fees                       0.0000     0.0000     0.0000      52.9800  "
      ]
     },
     "execution_count": 14,
     "metadata": {},
     "output_type": "execute_result"
    }
   ],
   "source": [
    "data[meta_new[meta_new.Type == 'float64'].index].describe().T"
   ]
  },
  {
   "cell_type": "code",
   "execution_count": 15,
   "metadata": {},
   "outputs": [
    {
     "data": {
      "image/png": "[encoded data removed]",
      "text/plain": [
       "<Figure size 432x288 with 1 Axes>"
      ]
     },
     "metadata": {
      "needs_background": "light"
     },
     "output_type": "display_data"
    },
    {
     "data": {
      "image/png": "[encoded data removed]",
      "text/plain": [
       "<Figure size 432x288 with 1 Axes>"
      ]
     },
     "metadata": {
      "needs_background": "light"
     },
     "output_type": "display_data"
    },
    {
     "data": {
      "image/png": "[encoded data removed]",
      "text/plain": [
       "<Figure size 432x288 with 1 Axes>"
      ]
     },
     "metadata": {
      "needs_background": "light"
     },
     "output_type": "display_data"
    },
    {
     "data": {
      "image/png": "[encoded data removed]",
      "text/plain": [
       "<Figure size 432x288 with 1 Axes>"
      ]
     },
     "metadata": {
      "needs_background": "light"
     },
     "output_type": "display_data"
    },
    {
     "data": {
      "image/png": "[encoded data removed]",
      "text/plain": [
       "<Figure size 432x288 with 1 Axes>"
      ]
     },
     "metadata": {
      "needs_background": "light"
     },
     "output_type": "display_data"
    },
    {
     "data": {
      "image/png": "[encoded data removed]",
      "text/plain": [
       "<Figure size 432x288 with 1 Axes>"
      ]
     },
     "metadata": {
      "needs_background": "light"
     },
     "output_type": "display_data"
    },
    {
     "data": {
      "image/png": "[encoded data removed]",
      "text/plain": [
       "<Figure size 432x288 with 1 Axes>"
      ]
     },
     "metadata": {
      "needs_background": "light"
     },
     "output_type": "display_data"
    },
    {
     "data": {
      "image/png": "[encoded data removed]",
      "text/plain": [
       "<Figure size 432x288 with 1 Axes>"
      ]
     },
     "metadata": {
      "needs_background": "light"
     },
     "output_type": "display_data"
    },
    {
     "data": {
      "image/png": "[encoded data removed]",
      "text/plain": [
       "<Figure size 432x288 with 1 Axes>"
      ]
     },
     "metadata": {
      "needs_background": "light"
     },
     "output_type": "display_data"
    },
    {
     "data": {
      "image/png": "[encoded data removed]",
      "text/plain": [
       "<Figure size 432x288 with 1 Axes>"
      ]
     },
     "metadata": {
      "needs_background": "light"
     },
     "output_type": "display_data"
    },
    {
     "data": {
      "image/png": "[encoded data removed]",
      "text/plain": [
       "<Figure size 432x288 with 1 Axes>"
      ]
     },
     "metadata": {
      "needs_background": "light"
     },
     "output_type": "display_data"
    },
    {
     "data": {
      "image/png": "[encoded data removed]",
      "text/plain": [
       "<Figure size 432x288 with 1 Axes>"
      ]
     },
     "metadata": {
      "needs_background": "light"
     },
     "output_type": "display_data"
    }
   ],
   "source": [
    "for col in meta_new[meta_new.Type == 'float64'].index:\n",
    "    plt.figure()\n",
    "    sns.histplot(data[col],bins=10)\n",
    "    plt.show()"
   ]
  },
  {
   "cell_type": "code",
   "execution_count": 16,
   "metadata": {},
   "outputs": [
    {
     "data": {
      "text/html": [
       "<div>\n",
       "<style scoped>\n",
       "    .dataframe tbody tr th:only-of-type {\n",
       "        vertical-align: middle;\n",
       "    }\n",
       "\n",
       "    .dataframe tbody tr th {\n",
       "        vertical-align: top;\n",
       "    }\n",
       "\n",
       "    .dataframe thead th {\n",
       "        text-align: right;\n",
       "    }\n",
       "</style>\n",
       "<table border=\"1\" class=\"dataframe\">\n",
       "  <thead>\n",
       "    <tr style=\"text-align: right;\">\n",
       "      <th></th>\n",
       "      <th>count</th>\n",
       "      <th>mean</th>\n",
       "      <th>std</th>\n",
       "      <th>min</th>\n",
       "      <th>25%</th>\n",
       "      <th>50%</th>\n",
       "      <th>75%</th>\n",
       "      <th>max</th>\n",
       "    </tr>\n",
       "  </thead>\n",
       "  <tbody>\n",
       "    <tr>\n",
       "      <th>delinq_2y</th>\n",
       "      <td>10000.0000</td>\n",
       "      <td>0.2160</td>\n",
       "      <td>0.6837</td>\n",
       "      <td>0.0000</td>\n",
       "      <td>0.0000</td>\n",
       "      <td>0.0000</td>\n",
       "      <td>0.0000</td>\n",
       "      <td>13.0000</td>\n",
       "    </tr>\n",
       "    <tr>\n",
       "      <th>earliest_credit_line</th>\n",
       "      <td>10000.0000</td>\n",
       "      <td>2001.2900</td>\n",
       "      <td>7.7955</td>\n",
       "      <td>1963.0000</td>\n",
       "      <td>1997.0000</td>\n",
       "      <td>2003.0000</td>\n",
       "      <td>2006.0000</td>\n",
       "      <td>2015.0000</td>\n",
       "    </tr>\n",
       "    <tr>\n",
       "      <th>inquiries_last_12m</th>\n",
       "      <td>10000.0000</td>\n",
       "      <td>1.9582</td>\n",
       "      <td>2.3801</td>\n",
       "      <td>0.0000</td>\n",
       "      <td>0.0000</td>\n",
       "      <td>1.0000</td>\n",
       "      <td>3.0000</td>\n",
       "      <td>29.0000</td>\n",
       "    </tr>\n",
       "    <tr>\n",
       "      <th>total_credit_lines</th>\n",
       "      <td>10000.0000</td>\n",
       "      <td>22.6796</td>\n",
       "      <td>11.8854</td>\n",
       "      <td>2.0000</td>\n",
       "      <td>14.0000</td>\n",
       "      <td>21.0000</td>\n",
       "      <td>29.0000</td>\n",
       "      <td>87.0000</td>\n",
       "    </tr>\n",
       "    <tr>\n",
       "      <th>open_credit_lines</th>\n",
       "      <td>10000.0000</td>\n",
       "      <td>11.4044</td>\n",
       "      <td>5.8683</td>\n",
       "      <td>0.0000</td>\n",
       "      <td>7.0000</td>\n",
       "      <td>10.0000</td>\n",
       "      <td>14.0000</td>\n",
       "      <td>51.0000</td>\n",
       "    </tr>\n",
       "    <tr>\n",
       "      <th>total_credit_limit</th>\n",
       "      <td>10000.0000</td>\n",
       "      <td>183606.2304</td>\n",
       "      <td>187632.7078</td>\n",
       "      <td>0.0000</td>\n",
       "      <td>51593.7500</td>\n",
       "      <td>114667.0000</td>\n",
       "      <td>267550.0000</td>\n",
       "      <td>3386034.0000</td>\n",
       "    </tr>\n",
       "    <tr>\n",
       "      <th>total_credit_utilized</th>\n",
       "      <td>10000.0000</td>\n",
       "      <td>51049.0631</td>\n",
       "      <td>53636.7312</td>\n",
       "      <td>0.0000</td>\n",
       "      <td>19185.5000</td>\n",
       "      <td>36927.0000</td>\n",
       "      <td>65421.0000</td>\n",
       "      <td>942456.0000</td>\n",
       "    </tr>\n",
       "    <tr>\n",
       "      <th>num_collections_last_12m</th>\n",
       "      <td>10000.0000</td>\n",
       "      <td>0.0138</td>\n",
       "      <td>0.1265</td>\n",
       "      <td>0.0000</td>\n",
       "      <td>0.0000</td>\n",
       "      <td>0.0000</td>\n",
       "      <td>0.0000</td>\n",
       "      <td>3.0000</td>\n",
       "    </tr>\n",
       "    <tr>\n",
       "      <th>num_historical_failed_to_pay</th>\n",
       "      <td>10000.0000</td>\n",
       "      <td>0.1671</td>\n",
       "      <td>0.6878</td>\n",
       "      <td>0.0000</td>\n",
       "      <td>0.0000</td>\n",
       "      <td>0.0000</td>\n",
       "      <td>0.0000</td>\n",
       "      <td>52.0000</td>\n",
       "    </tr>\n",
       "    <tr>\n",
       "      <th>current_accounts_delinq</th>\n",
       "      <td>10000.0000</td>\n",
       "      <td>0.0001</td>\n",
       "      <td>0.0100</td>\n",
       "      <td>0.0000</td>\n",
       "      <td>0.0000</td>\n",
       "      <td>0.0000</td>\n",
       "      <td>0.0000</td>\n",
       "      <td>1.0000</td>\n",
       "    </tr>\n",
       "    <tr>\n",
       "      <th>total_collection_amount_ever</th>\n",
       "      <td>10000.0000</td>\n",
       "      <td>184.3340</td>\n",
       "      <td>2206.3899</td>\n",
       "      <td>0.0000</td>\n",
       "      <td>0.0000</td>\n",
       "      <td>0.0000</td>\n",
       "      <td>0.0000</td>\n",
       "      <td>199308.0000</td>\n",
       "    </tr>\n",
       "    <tr>\n",
       "      <th>current_installment_accounts</th>\n",
       "      <td>10000.0000</td>\n",
       "      <td>2.6636</td>\n",
       "      <td>2.9354</td>\n",
       "      <td>0.0000</td>\n",
       "      <td>1.0000</td>\n",
       "      <td>2.0000</td>\n",
       "      <td>3.0000</td>\n",
       "      <td>35.0000</td>\n",
       "    </tr>\n",
       "    <tr>\n",
       "      <th>accounts_opened_24m</th>\n",
       "      <td>10000.0000</td>\n",
       "      <td>4.3761</td>\n",
       "      <td>3.1586</td>\n",
       "      <td>0.0000</td>\n",
       "      <td>2.0000</td>\n",
       "      <td>4.0000</td>\n",
       "      <td>6.0000</td>\n",
       "      <td>29.0000</td>\n",
       "    </tr>\n",
       "    <tr>\n",
       "      <th>num_satisfactory_accounts</th>\n",
       "      <td>10000.0000</td>\n",
       "      <td>11.3796</td>\n",
       "      <td>5.8597</td>\n",
       "      <td>0.0000</td>\n",
       "      <td>7.0000</td>\n",
       "      <td>10.0000</td>\n",
       "      <td>14.0000</td>\n",
       "      <td>51.0000</td>\n",
       "    </tr>\n",
       "    <tr>\n",
       "      <th>num_accounts_30d_past_due</th>\n",
       "      <td>10000.0000</td>\n",
       "      <td>0.0001</td>\n",
       "      <td>0.0100</td>\n",
       "      <td>0.0000</td>\n",
       "      <td>0.0000</td>\n",
       "      <td>0.0000</td>\n",
       "      <td>0.0000</td>\n",
       "      <td>1.0000</td>\n",
       "    </tr>\n",
       "    <tr>\n",
       "      <th>num_active_debit_accounts</th>\n",
       "      <td>10000.0000</td>\n",
       "      <td>3.5953</td>\n",
       "      <td>2.4347</td>\n",
       "      <td>0.0000</td>\n",
       "      <td>2.0000</td>\n",
       "      <td>3.0000</td>\n",
       "      <td>5.0000</td>\n",
       "      <td>32.0000</td>\n",
       "    </tr>\n",
       "    <tr>\n",
       "      <th>total_debit_limit</th>\n",
       "      <td>10000.0000</td>\n",
       "      <td>27357.4103</td>\n",
       "      <td>26570.1641</td>\n",
       "      <td>0.0000</td>\n",
       "      <td>10000.0000</td>\n",
       "      <td>19500.0000</td>\n",
       "      <td>36100.0000</td>\n",
       "      <td>386700.0000</td>\n",
       "    </tr>\n",
       "    <tr>\n",
       "      <th>num_total_cc_accounts</th>\n",
       "      <td>10000.0000</td>\n",
       "      <td>13.0300</td>\n",
       "      <td>7.8747</td>\n",
       "      <td>2.0000</td>\n",
       "      <td>7.0000</td>\n",
       "      <td>11.0000</td>\n",
       "      <td>17.0000</td>\n",
       "      <td>66.0000</td>\n",
       "    </tr>\n",
       "    <tr>\n",
       "      <th>num_open_cc_accounts</th>\n",
       "      <td>10000.0000</td>\n",
       "      <td>8.0950</td>\n",
       "      <td>4.9066</td>\n",
       "      <td>0.0000</td>\n",
       "      <td>5.0000</td>\n",
       "      <td>7.0000</td>\n",
       "      <td>10.0000</td>\n",
       "      <td>46.0000</td>\n",
       "    </tr>\n",
       "    <tr>\n",
       "      <th>num_cc_carrying_balance</th>\n",
       "      <td>10000.0000</td>\n",
       "      <td>5.2305</td>\n",
       "      <td>3.3276</td>\n",
       "      <td>0.0000</td>\n",
       "      <td>3.0000</td>\n",
       "      <td>5.0000</td>\n",
       "      <td>7.0000</td>\n",
       "      <td>43.0000</td>\n",
       "    </tr>\n",
       "    <tr>\n",
       "      <th>num_mort_accounts</th>\n",
       "      <td>10000.0000</td>\n",
       "      <td>1.3831</td>\n",
       "      <td>1.7173</td>\n",
       "      <td>0.0000</td>\n",
       "      <td>0.0000</td>\n",
       "      <td>1.0000</td>\n",
       "      <td>2.0000</td>\n",
       "      <td>14.0000</td>\n",
       "    </tr>\n",
       "    <tr>\n",
       "      <th>tax_liens</th>\n",
       "      <td>10000.0000</td>\n",
       "      <td>0.0433</td>\n",
       "      <td>0.5939</td>\n",
       "      <td>0.0000</td>\n",
       "      <td>0.0000</td>\n",
       "      <td>0.0000</td>\n",
       "      <td>0.0000</td>\n",
       "      <td>52.0000</td>\n",
       "    </tr>\n",
       "    <tr>\n",
       "      <th>public_record_bankrupt</th>\n",
       "      <td>10000.0000</td>\n",
       "      <td>0.1238</td>\n",
       "      <td>0.3372</td>\n",
       "      <td>0.0000</td>\n",
       "      <td>0.0000</td>\n",
       "      <td>0.0000</td>\n",
       "      <td>0.0000</td>\n",
       "      <td>3.0000</td>\n",
       "    </tr>\n",
       "    <tr>\n",
       "      <th>loan_amount</th>\n",
       "      <td>10000.0000</td>\n",
       "      <td>16361.9225</td>\n",
       "      <td>10301.9568</td>\n",
       "      <td>1000.0000</td>\n",
       "      <td>8000.0000</td>\n",
       "      <td>14500.0000</td>\n",
       "      <td>24000.0000</td>\n",
       "      <td>40000.0000</td>\n",
       "    </tr>\n",
       "    <tr>\n",
       "      <th>term</th>\n",
       "      <td>10000.0000</td>\n",
       "      <td>43.2720</td>\n",
       "      <td>11.0299</td>\n",
       "      <td>36.0000</td>\n",
       "      <td>36.0000</td>\n",
       "      <td>36.0000</td>\n",
       "      <td>60.0000</td>\n",
       "      <td>60.0000</td>\n",
       "    </tr>\n",
       "  </tbody>\n",
       "</table>\n",
       "</div>"
      ],
      "text/plain": [
       "                                  count        mean         std       min  \\\n",
       "delinq_2y                    10000.0000      0.2160      0.6837    0.0000   \n",
       "earliest_credit_line         10000.0000   2001.2900      7.7955 1963.0000   \n",
       "inquiries_last_12m           10000.0000      1.9582      2.3801    0.0000   \n",
       "total_credit_lines           10000.0000     22.6796     11.8854    2.0000   \n",
       "open_credit_lines            10000.0000     11.4044      5.8683    0.0000   \n",
       "total_credit_limit           10000.0000 183606.2304 187632.7078    0.0000   \n",
       "total_credit_utilized        10000.0000  51049.0631  53636.7312    0.0000   \n",
       "num_collections_last_12m     10000.0000      0.0138      0.1265    0.0000   \n",
       "num_historical_failed_to_pay 10000.0000      0.1671      0.6878    0.0000   \n",
       "current_accounts_delinq      10000.0000      0.0001      0.0100    0.0000   \n",
       "total_collection_amount_ever 10000.0000    184.3340   2206.3899    0.0000   \n",
       "current_installment_accounts 10000.0000      2.6636      2.9354    0.0000   \n",
       "accounts_opened_24m          10000.0000      4.3761      3.1586    0.0000   \n",
       "num_satisfactory_accounts    10000.0000     11.3796      5.8597    0.0000   \n",
       "num_accounts_30d_past_due    10000.0000      0.0001      0.0100    0.0000   \n",
       "num_active_debit_accounts    10000.0000      3.5953      2.4347    0.0000   \n",
       "total_debit_limit            10000.0000  27357.4103  26570.1641    0.0000   \n",
       "num_total_cc_accounts        10000.0000     13.0300      7.8747    2.0000   \n",
       "num_open_cc_accounts         10000.0000      8.0950      4.9066    0.0000   \n",
       "num_cc_carrying_balance      10000.0000      5.2305      3.3276    0.0000   \n",
       "num_mort_accounts            10000.0000      1.3831      1.7173    0.0000   \n",
       "tax_liens                    10000.0000      0.0433      0.5939    0.0000   \n",
       "public_record_bankrupt       10000.0000      0.1238      0.3372    0.0000   \n",
       "loan_amount                  10000.0000  16361.9225  10301.9568 1000.0000   \n",
       "term                         10000.0000     43.2720     11.0299   36.0000   \n",
       "\n",
       "                                    25%         50%         75%          max  \n",
       "delinq_2y                        0.0000      0.0000      0.0000      13.0000  \n",
       "earliest_credit_line          1997.0000   2003.0000   2006.0000    2015.0000  \n",
       "inquiries_last_12m               0.0000      1.0000      3.0000      29.0000  \n",
       "total_credit_lines              14.0000     21.0000     29.0000      87.0000  \n",
       "open_credit_lines                7.0000     10.0000     14.0000      51.0000  \n",
       "total_credit_limit           51593.7500 114667.0000 267550.0000 3386034.0000  \n",
       "total_credit_utilized        19185.5000  36927.0000  65421.0000  942456.0000  \n",
       "num_collections_last_12m         0.0000      0.0000      0.0000       3.0000  \n",
       "num_historical_failed_to_pay     0.0000      0.0000      0.0000      52.0000  \n",
       "current_accounts_delinq          0.0000      0.0000      0.0000       1.0000  \n",
       "total_collection_amount_ever     0.0000      0.0000      0.0000  199308.0000  \n",
       "current_installment_accounts     1.0000      2.0000      3.0000      35.0000  \n",
       "accounts_opened_24m              2.0000      4.0000      6.0000      29.0000  \n",
       "num_satisfactory_accounts        7.0000     10.0000     14.0000      51.0000  \n",
       "num_accounts_30d_past_due        0.0000      0.0000      0.0000       1.0000  \n",
       "num_active_debit_accounts        2.0000      3.0000      5.0000      32.0000  \n",
       "total_debit_limit            10000.0000  19500.0000  36100.0000  386700.0000  \n",
       "num_total_cc_accounts            7.0000     11.0000     17.0000      66.0000  \n",
       "num_open_cc_accounts             5.0000      7.0000     10.0000      46.0000  \n",
       "num_cc_carrying_balance          3.0000      5.0000      7.0000      43.0000  \n",
       "num_mort_accounts                0.0000      1.0000      2.0000      14.0000  \n",
       "tax_liens                        0.0000      0.0000      0.0000      52.0000  \n",
       "public_record_bankrupt           0.0000      0.0000      0.0000       3.0000  \n",
       "loan_amount                   8000.0000  14500.0000  24000.0000   40000.0000  \n",
       "term                            36.0000     36.0000     60.0000      60.0000  "
      ]
     },
     "execution_count": 16,
     "metadata": {},
     "output_type": "execute_result"
    }
   ],
   "source": [
    "data[meta_new[meta_new.Type == 'int64'].index].describe().T"
   ]
  },
  {
   "cell_type": "code",
   "execution_count": 17,
   "metadata": {
    "scrolled": true
   },
   "outputs": [
    {
     "data": {
      "image/png": "[encoded data removed]",
      "text/plain": [
       "<Figure size 432x288 with 1 Axes>"
      ]
     },
     "metadata": {
      "needs_background": "light"
     },
     "output_type": "display_data"
    },
    {
     "data": {
      "image/png": "[encoded data removed]",
      "text/plain": [
       "<Figure size 432x288 with 1 Axes>"
      ]
     },
     "metadata": {
      "needs_background": "light"
     },
     "output_type": "display_data"
    },
    {
     "data": {
      "image/png": "[encoded data removed]",
      "text/plain": [
       "<Figure size 432x288 with 1 Axes>"
      ]
     },
     "metadata": {
      "needs_background": "light"
     },
     "output_type": "display_data"
    },
    {
     "data": {
      "image/png": "[encoded data removed]",
      "text/plain": [
       "<Figure size 432x288 with 1 Axes>"
      ]
     },
     "metadata": {
      "needs_background": "light"
     },
     "output_type": "display_data"
    },
    {
     "data": {
      "image/png": "[encoded data removed]",
      "text/plain": [
       "<Figure size 432x288 with 1 Axes>"
      ]
     },
     "metadata": {
      "needs_background": "light"
     },
     "output_type": "display_data"
    },
    {
     "data": {
      "image/png": "[encoded data removed]",
      "text/plain": [
       "<Figure size 432x288 with 1 Axes>"
      ]
     },
     "metadata": {
      "needs_background": "light"
     },
     "output_type": "display_data"
    },
    {
     "data": {
      "image/png": "[encoded data removed]",
      "text/plain": [
       "<Figure size 432x288 with 1 Axes>"
      ]
     },
     "metadata": {
      "needs_background": "light"
     },
     "output_type": "display_data"
    },
    {
     "data": {
      "image/png": "[encoded data removed]",
      "text/plain": [
       "<Figure size 432x288 with 1 Axes>"
      ]
     },
     "metadata": {
      "needs_background": "light"
     },
     "output_type": "display_data"
    },
    {
     "data": {
      "image/png": "[encoded data removed]",
      "text/plain": [
       "<Figure size 432x288 with 1 Axes>"
      ]
     },
     "metadata": {
      "needs_background": "light"
     },
     "output_type": "display_data"
    },
    {
     "data": {
      "image/png": "[encoded data removed]",
      "text/plain": [
       "<Figure size 432x288 with 1 Axes>"
      ]
     },
     "metadata": {
      "needs_background": "light"
     },
     "output_type": "display_data"
    },
    {
     "data": {
      "image/png": "[encoded data removed]",
      "text/plain": [
       "<Figure size 432x288 with 1 Axes>"
      ]
     },
     "metadata": {
      "needs_background": "light"
     },
     "output_type": "display_data"
    },
    {
     "data": {
      "image/png": "[encoded data removed]",
      "text/plain": [
       "<Figure size 432x288 with 1 Axes>"
      ]
     },
     "metadata": {
      "needs_background": "light"
     },
     "output_type": "display_data"
    },
    {
     "data": {
      "image/png": "[encoded data removed]",
      "text/plain": [
       "<Figure size 432x288 with 1 Axes>"
      ]
     },
     "metadata": {
      "needs_background": "light"
     },
     "output_type": "display_data"
    },
    {
     "data": {
      "image/png": "[encoded data removed]",
      "text/plain": [
       "<Figure size 432x288 with 1 Axes>"
      ]
     },
     "metadata": {
      "needs_background": "light"
     },
     "output_type": "display_data"
    },
    {
     "data": {
      "image/png": "[encoded data removed]",
      "text/plain": [
       "<Figure size 432x288 with 1 Axes>"
      ]
     },
     "metadata": {
      "needs_background": "light"
     },
     "output_type": "display_data"
    },
    {
     "data": {
      "image/png": "[encoded data removed]",
      "text/plain": [
       "<Figure size 432x288 with 1 Axes>"
      ]
     },
     "metadata": {
      "needs_background": "light"
     },
     "output_type": "display_data"
    },
    {
     "data": {
      "image/png": "[encoded data removed]",
      "text/plain": [
       "<Figure size 432x288 with 1 Axes>"
      ]
     },
     "metadata": {
      "needs_background": "light"
     },
     "output_type": "display_data"
    },
    {
     "data": {
      "image/png": "[encoded data removed]",
      "text/plain": [
       "<Figure size 432x288 with 1 Axes>"
      ]
     },
     "metadata": {
      "needs_background": "light"
     },
     "output_type": "display_data"
    },
    {
     "data": {
      "image/png": "[encoded data removed]",
      "text/plain": [
       "<Figure size 432x288 with 1 Axes>"
      ]
     },
     "metadata": {
      "needs_background": "light"
     },
     "output_type": "display_data"
    },
    {
     "data": {
      "image/png": "[encoded data removed]",
      "text/plain": [
       "<Figure size 432x288 with 1 Axes>"
      ]
     },
     "metadata": {
      "needs_background": "light"
     },
     "output_type": "display_data"
    },
    {
     "data": {
      "image/png": "[encoded data removed]",
      "text/plain": [
       "<Figure size 432x288 with 1 Axes>"
      ]
     },
     "metadata": {
      "needs_background": "light"
     },
     "output_type": "display_data"
    },
    {
     "data": {
      "image/png": "[encoded data removed]",
      "text/plain": [
       "<Figure size 432x288 with 1 Axes>"
      ]
     },
     "metadata": {
      "needs_background": "light"
     },
     "output_type": "display_data"
    },
    {
     "data": {
      "image/png": "[encoded data removed]",
      "text/plain": [
       "<Figure size 432x288 with 1 Axes>"
      ]
     },
     "metadata": {
      "needs_background": "light"
     },
     "output_type": "display_data"
    },
    {
     "data": {
      "image/png": "[encoded data removed]",
      "text/plain": [
       "<Figure size 432x288 with 1 Axes>"
      ]
     },
     "metadata": {
      "needs_background": "light"
     },
     "output_type": "display_data"
    },
    {
     "data": {
      "image/png": "[encoded data removed]",
      "text/plain": [
       "<Figure size 432x288 with 1 Axes>"
      ]
     },
     "metadata": {
      "needs_background": "light"
     },
     "output_type": "display_data"
    }
   ],
   "source": [
    "for col in meta_new[meta_new.Type == 'int64'].index:\n",
    "    plt.figure()\n",
    "    sns.histplot(data[col], bins=20)\n",
    "    plt.show()"
   ]
  },
  {
   "cell_type": "code",
   "execution_count": 91,
   "metadata": {},
   "outputs": [],
   "source": [
    "# for col in meta_new[meta_new.Type == 'object'].index:\n",
    "#     print(data[col].value_counts())"
   ]
  },
  {
   "cell_type": "markdown",
   "metadata": {},
   "source": [
    "`num_accounts_120d_past_due` is all 0, so it will be dropped \n",
    "\n",
    "`current_accounts_delinq` and `num_accounts_30d_past_due` both has only 1 value that is not 0, so they will be dropped\n",
    "\n",
    "There are some variables that has extremely unbalanced distribution or have outliers (but may not be influential), such as `annual_income`, `debt_to_income`, `paid_late_fees`, `num_historical_failed_to_pay`, `total_collection_amount_ever`. \n",
    "\n",
    "`term` has only two values 36 and 60, though it is type of int64. "
   ]
  },
  {
   "cell_type": "code",
   "execution_count": 19,
   "metadata": {},
   "outputs": [],
   "source": [
    "meta_new = meta_new.drop(['num_accounts_120d_past_due', 'current_accounts_delinq', 'num_accounts_30d_past_due'])"
   ]
  },
  {
   "cell_type": "code",
   "execution_count": 20,
   "metadata": {},
   "outputs": [
    {
     "data": {
      "text/plain": [
       "<AxesSubplot:xlabel='interest_rate', ylabel='Count'>"
      ]
     },
     "execution_count": 20,
     "metadata": {},
     "output_type": "execute_result"
    },
    {
     "data": {
      "image/png": "[encoded data removed]",
      "text/plain": [
       "<Figure size 432x288 with 1 Axes>"
      ]
     },
     "metadata": {
      "needs_background": "light"
     },
     "output_type": "display_data"
    }
   ],
   "source": [
    "Y = data['interest_rate']\n",
    "sns.histplot(Y, bins=30)"
   ]
  },
  {
   "cell_type": "markdown",
   "metadata": {},
   "source": [
    "## Preliminary Feature Selection "
   ]
  },
  {
   "cell_type": "markdown",
   "metadata": {},
   "source": [
    "### Correlation of numerical features"
   ]
  },
  {
   "cell_type": "code",
   "execution_count": 21,
   "metadata": {},
   "outputs": [],
   "source": [
    "from sklearn.feature_selection import SelectKBest\n",
    "from scipy.stats import pearsonr "
   ]
  },
  {
   "cell_type": "code",
   "execution_count": 22,
   "metadata": {},
   "outputs": [],
   "source": [
    "# missing value?\n",
    "data_nonan = data.dropna(axis=0, how='any')"
   ]
  },
  {
   "cell_type": "code",
   "execution_count": 23,
   "metadata": {},
   "outputs": [],
   "source": [
    "correlation_dict = []\n",
    "for col in meta_new[meta_new.Type == 'float64'].index:\n",
    "    correlation, pvalue = pearsonr(data_nonan[col], data_nonan['interest_rate'])\n",
    "    dict_tmp = {'Name': col, 'Correlation': correlation, 'P-value':pvalue}\n",
    "    correlation_dict.append(dict_tmp)"
   ]
  },
  {
   "cell_type": "code",
   "execution_count": 24,
   "metadata": {},
   "outputs": [
    {
     "data": {
      "text/html": [
       "<div>\n",
       "<style scoped>\n",
       "    .dataframe tbody tr th:only-of-type {\n",
       "        vertical-align: middle;\n",
       "    }\n",
       "\n",
       "    .dataframe tbody tr th {\n",
       "        vertical-align: top;\n",
       "    }\n",
       "\n",
       "    .dataframe thead th {\n",
       "        text-align: right;\n",
       "    }\n",
       "</style>\n",
       "<table border=\"1\" class=\"dataframe\">\n",
       "  <thead>\n",
       "    <tr style=\"text-align: right;\">\n",
       "      <th></th>\n",
       "      <th>Correlation</th>\n",
       "      <th>P-value</th>\n",
       "    </tr>\n",
       "    <tr>\n",
       "      <th>Name</th>\n",
       "      <th></th>\n",
       "      <th></th>\n",
       "    </tr>\n",
       "  </thead>\n",
       "  <tbody>\n",
       "    <tr>\n",
       "      <th>paid_interest</th>\n",
       "      <td>0.4990</td>\n",
       "      <td>0.0000</td>\n",
       "    </tr>\n",
       "    <tr>\n",
       "      <th>annual_income</th>\n",
       "      <td>-0.2143</td>\n",
       "      <td>0.0022</td>\n",
       "    </tr>\n",
       "    <tr>\n",
       "      <th>months_since_last_credit_inquiry</th>\n",
       "      <td>-0.2012</td>\n",
       "      <td>0.0042</td>\n",
       "    </tr>\n",
       "    <tr>\n",
       "      <th>paid_principal</th>\n",
       "      <td>-0.1858</td>\n",
       "      <td>0.0083</td>\n",
       "    </tr>\n",
       "    <tr>\n",
       "      <th>installment</th>\n",
       "      <td>0.1153</td>\n",
       "      <td>0.1030</td>\n",
       "    </tr>\n",
       "    <tr>\n",
       "      <th>emp_length</th>\n",
       "      <td>-0.0717</td>\n",
       "      <td>0.3120</td>\n",
       "    </tr>\n",
       "    <tr>\n",
       "      <th>balance</th>\n",
       "      <td>0.0534</td>\n",
       "      <td>0.4514</td>\n",
       "    </tr>\n",
       "    <tr>\n",
       "      <th>account_never_delinq_percent</th>\n",
       "      <td>-0.0387</td>\n",
       "      <td>0.5858</td>\n",
       "    </tr>\n",
       "    <tr>\n",
       "      <th>paid_total</th>\n",
       "      <td>0.0280</td>\n",
       "      <td>0.6936</td>\n",
       "    </tr>\n",
       "    <tr>\n",
       "      <th>debt_to_income</th>\n",
       "      <td>0.0194</td>\n",
       "      <td>0.7850</td>\n",
       "    </tr>\n",
       "    <tr>\n",
       "      <th>paid_late_fees</th>\n",
       "      <td>-0.0110</td>\n",
       "      <td>0.8768</td>\n",
       "    </tr>\n",
       "  </tbody>\n",
       "</table>\n",
       "</div>"
      ],
      "text/plain": [
       "                                  Correlation  P-value\n",
       "Name                                                  \n",
       "paid_interest                          0.4990   0.0000\n",
       "annual_income                         -0.2143   0.0022\n",
       "months_since_last_credit_inquiry      -0.2012   0.0042\n",
       "paid_principal                        -0.1858   0.0083\n",
       "installment                            0.1153   0.1030\n",
       "emp_length                            -0.0717   0.3120\n",
       "balance                                0.0534   0.4514\n",
       "account_never_delinq_percent          -0.0387   0.5858\n",
       "paid_total                             0.0280   0.6936\n",
       "debt_to_income                         0.0194   0.7850\n",
       "paid_late_fees                        -0.0110   0.8768"
      ]
     },
     "execution_count": 24,
     "metadata": {},
     "output_type": "execute_result"
    }
   ],
   "source": [
    "pd.DataFrame(correlation_dict).set_index('Name').sort_values('P-value')"
   ]
  },
  {
   "cell_type": "code",
   "execution_count": 25,
   "metadata": {},
   "outputs": [],
   "source": [
    "correlation_dict = []\n",
    "for col in meta_new[meta_new.Type == 'int64'].index:\n",
    "    correlation, pvalue = pearsonr(data_nonan[col], data_nonan['interest_rate'])\n",
    "    dict_tmp = {'Name': col, 'Correlation': correlation, 'P-value':pvalue}\n",
    "    correlation_dict.append(dict_tmp)"
   ]
  },
  {
   "cell_type": "code",
   "execution_count": 26,
   "metadata": {},
   "outputs": [
    {
     "data": {
      "text/html": [
       "<div>\n",
       "<style scoped>\n",
       "    .dataframe tbody tr th:only-of-type {\n",
       "        vertical-align: middle;\n",
       "    }\n",
       "\n",
       "    .dataframe tbody tr th {\n",
       "        vertical-align: top;\n",
       "    }\n",
       "\n",
       "    .dataframe thead th {\n",
       "        text-align: right;\n",
       "    }\n",
       "</style>\n",
       "<table border=\"1\" class=\"dataframe\">\n",
       "  <thead>\n",
       "    <tr style=\"text-align: right;\">\n",
       "      <th></th>\n",
       "      <th>Correlation</th>\n",
       "      <th>P-value</th>\n",
       "    </tr>\n",
       "    <tr>\n",
       "      <th>Name</th>\n",
       "      <th></th>\n",
       "      <th></th>\n",
       "    </tr>\n",
       "  </thead>\n",
       "  <tbody>\n",
       "    <tr>\n",
       "      <th>term</th>\n",
       "      <td>0.3060</td>\n",
       "      <td>0.0000</td>\n",
       "    </tr>\n",
       "    <tr>\n",
       "      <th>total_debit_limit</th>\n",
       "      <td>-0.2861</td>\n",
       "      <td>0.0000</td>\n",
       "    </tr>\n",
       "    <tr>\n",
       "      <th>inquiries_last_12m</th>\n",
       "      <td>0.2785</td>\n",
       "      <td>0.0001</td>\n",
       "    </tr>\n",
       "    <tr>\n",
       "      <th>total_credit_limit</th>\n",
       "      <td>-0.2314</td>\n",
       "      <td>0.0009</td>\n",
       "    </tr>\n",
       "    <tr>\n",
       "      <th>num_mort_accounts</th>\n",
       "      <td>-0.1986</td>\n",
       "      <td>0.0047</td>\n",
       "    </tr>\n",
       "    <tr>\n",
       "      <th>accounts_opened_24m</th>\n",
       "      <td>0.1833</td>\n",
       "      <td>0.0092</td>\n",
       "    </tr>\n",
       "    <tr>\n",
       "      <th>num_collections_last_12m</th>\n",
       "      <td>0.1267</td>\n",
       "      <td>0.0732</td>\n",
       "    </tr>\n",
       "    <tr>\n",
       "      <th>earliest_credit_line</th>\n",
       "      <td>0.1231</td>\n",
       "      <td>0.0817</td>\n",
       "    </tr>\n",
       "    <tr>\n",
       "      <th>delinq_2y</th>\n",
       "      <td>0.0802</td>\n",
       "      <td>0.2577</td>\n",
       "    </tr>\n",
       "    <tr>\n",
       "      <th>num_total_cc_accounts</th>\n",
       "      <td>-0.0742</td>\n",
       "      <td>0.2952</td>\n",
       "    </tr>\n",
       "    <tr>\n",
       "      <th>total_credit_utilized</th>\n",
       "      <td>-0.0686</td>\n",
       "      <td>0.3330</td>\n",
       "    </tr>\n",
       "    <tr>\n",
       "      <th>public_record_bankrupt</th>\n",
       "      <td>-0.0627</td>\n",
       "      <td>0.3766</td>\n",
       "    </tr>\n",
       "    <tr>\n",
       "      <th>current_installment_accounts</th>\n",
       "      <td>0.0544</td>\n",
       "      <td>0.4428</td>\n",
       "    </tr>\n",
       "    <tr>\n",
       "      <th>total_credit_lines</th>\n",
       "      <td>-0.0519</td>\n",
       "      <td>0.4642</td>\n",
       "    </tr>\n",
       "    <tr>\n",
       "      <th>num_historical_failed_to_pay</th>\n",
       "      <td>-0.0408</td>\n",
       "      <td>0.5650</td>\n",
       "    </tr>\n",
       "    <tr>\n",
       "      <th>loan_amount</th>\n",
       "      <td>0.0273</td>\n",
       "      <td>0.7006</td>\n",
       "    </tr>\n",
       "    <tr>\n",
       "      <th>tax_liens</th>\n",
       "      <td>0.0270</td>\n",
       "      <td>0.7037</td>\n",
       "    </tr>\n",
       "    <tr>\n",
       "      <th>num_cc_carrying_balance</th>\n",
       "      <td>0.0259</td>\n",
       "      <td>0.7155</td>\n",
       "    </tr>\n",
       "    <tr>\n",
       "      <th>open_credit_lines</th>\n",
       "      <td>0.0123</td>\n",
       "      <td>0.8626</td>\n",
       "    </tr>\n",
       "    <tr>\n",
       "      <th>total_collection_amount_ever</th>\n",
       "      <td>0.0109</td>\n",
       "      <td>0.8779</td>\n",
       "    </tr>\n",
       "    <tr>\n",
       "      <th>num_satisfactory_accounts</th>\n",
       "      <td>0.0097</td>\n",
       "      <td>0.8916</td>\n",
       "    </tr>\n",
       "    <tr>\n",
       "      <th>num_open_cc_accounts</th>\n",
       "      <td>0.0097</td>\n",
       "      <td>0.8916</td>\n",
       "    </tr>\n",
       "    <tr>\n",
       "      <th>num_active_debit_accounts</th>\n",
       "      <td>0.0017</td>\n",
       "      <td>0.9809</td>\n",
       "    </tr>\n",
       "  </tbody>\n",
       "</table>\n",
       "</div>"
      ],
      "text/plain": [
       "                              Correlation  P-value\n",
       "Name                                              \n",
       "term                               0.3060   0.0000\n",
       "total_debit_limit                 -0.2861   0.0000\n",
       "inquiries_last_12m                 0.2785   0.0001\n",
       "total_credit_limit                -0.2314   0.0009\n",
       "num_mort_accounts                 -0.1986   0.0047\n",
       "accounts_opened_24m                0.1833   0.0092\n",
       "num_collections_last_12m           0.1267   0.0732\n",
       "earliest_credit_line               0.1231   0.0817\n",
       "delinq_2y                          0.0802   0.2577\n",
       "num_total_cc_accounts             -0.0742   0.2952\n",
       "total_credit_utilized             -0.0686   0.3330\n",
       "public_record_bankrupt            -0.0627   0.3766\n",
       "current_installment_accounts       0.0544   0.4428\n",
       "total_credit_lines                -0.0519   0.4642\n",
       "num_historical_failed_to_pay      -0.0408   0.5650\n",
       "loan_amount                        0.0273   0.7006\n",
       "tax_liens                          0.0270   0.7037\n",
       "num_cc_carrying_balance            0.0259   0.7155\n",
       "open_credit_lines                  0.0123   0.8626\n",
       "total_collection_amount_ever       0.0109   0.8779\n",
       "num_satisfactory_accounts          0.0097   0.8916\n",
       "num_open_cc_accounts               0.0097   0.8916\n",
       "num_active_debit_accounts          0.0017   0.9809"
      ]
     },
     "execution_count": 26,
     "metadata": {},
     "output_type": "execute_result"
    }
   ],
   "source": [
    "pd.DataFrame(correlation_dict).set_index('Name').sort_values('P-value')"
   ]
  },
  {
   "cell_type": "markdown",
   "metadata": {},
   "source": [
    "### XGBoost for numerical features"
   ]
  },
  {
   "cell_type": "code",
   "execution_count": 27,
   "metadata": {},
   "outputs": [
    {
     "name": "stderr",
     "output_type": "stream",
     "text": [
      "/Users/riliu/opt/anaconda3/lib/python3.8/site-packages/xgboost/compat.py:36: FutureWarning: pandas.Int64Index is deprecated and will be removed from pandas in a future version. Use pandas.Index with the appropriate dtype instead.\n",
      "  from pandas import MultiIndex, Int64Index\n"
     ]
    },
    {
     "name": "stdout",
     "output_type": "stream",
     "text": [
      "[21:12:03] WARNING: ../src/learner.cc:576: \n",
      "Parameters: { \"silent\" } might not be used.\n",
      "\n",
      "  This could be a false alarm, with some parameters getting used by language bindings but\n",
      "  then being mistakenly passed down to XGBoost core, or some parameter actually being used\n",
      "  but getting flagged wrongly here. Please open an issue if you find any such cases.\n",
      "\n",
      "\n"
     ]
    },
    {
     "data": {
      "image/png": "[encoded data removed]",
      "text/plain": [
       "<Figure size 1080x720 with 1 Axes>"
      ]
     },
     "metadata": {
      "needs_background": "light"
     },
     "output_type": "display_data"
    }
   ],
   "source": [
    "import xgboost as xgb\n",
    "from xgboost import plot_importance\n",
    "from sklearn.model_selection import train_test_split\n",
    "import matplotlib.pyplot as plt\n",
    "\n",
    "data_xgb = []\n",
    "data_xgb = data[meta_new[meta_new.Type == 'float64'].index.append(meta_new[meta_new.Type == 'int64'].index)]\n",
    "labels = data['interest_rate']\n",
    "\n",
    "X = []\n",
    "for row in data_xgb.values:\n",
    "    row = [float(x) for x in row]\n",
    "    X.append(row)\n",
    "\n",
    "y = [float(x) for x in labels]\n",
    "\n",
    "X_train, X_test, y_train, y_test = train_test_split(X, y, \n",
    "                                                    test_size=0.2, \n",
    "                                                    random_state=0)\n",
    "\n",
    "model = xgb.XGBRegressor(n_estimators=160, \n",
    "                         learning_rate=0.1, \n",
    "                         max_depth=5, \n",
    "                         silent=True, \n",
    "                         objective='reg:gamma')\n",
    "                         \n",
    "\n",
    "model.fit(X_train, y_train)\n",
    "model.get_booster().feature_names =  list(data_xgb.columns)\n",
    "\n",
    "fig,ax = plt.subplots(figsize=(15,10))\n",
    "plot_importance(model, ax=ax)\n",
    "plt.show()"
   ]
  },
  {
   "cell_type": "markdown",
   "metadata": {},
   "source": [
    "The features that have significant correlation with `interest_rate` and the features that have feature importance higher than the 'elbow point' are selected currently. "
   ]
  },
  {
   "cell_type": "code",
   "execution_count": 28,
   "metadata": {},
   "outputs": [],
   "source": [
    "continuous_cols = ['paid_interest', 'annual_income', 'months_since_last_credit_inquiry', 'paid_principal', 'term', 'total_debit_limit', 'inquiries_last_12m', 'total_credit_limit', 'num_mort_accounts', 'accounts_opened_24m', 'balance', 'installment', 'paid_total', 'loan_amount']"
   ]
  },
  {
   "cell_type": "code",
   "execution_count": 29,
   "metadata": {},
   "outputs": [
    {
     "data": {
      "text/plain": [
       "<AxesSubplot:>"
      ]
     },
     "execution_count": 29,
     "metadata": {},
     "output_type": "execute_result"
    },
    {
     "data": {
      "image/png": "[encoded data removed]",
      "text/plain": [
       "<Figure size 432x288 with 2 Axes>"
      ]
     },
     "metadata": {
      "needs_background": "light"
     },
     "output_type": "display_data"
    }
   ],
   "source": [
    "sns.heatmap(abs(data[continuous_cols].corr()))"
   ]
  },
  {
   "cell_type": "markdown",
   "metadata": {},
   "source": [
    "The shallow color cells indicate the strong correlations between two features. \n",
    "\n",
    "'paid_total' with 'paid_principle', 'balance' and 'installment', 'loan_amount' with 'balance' and 'installment' are correlated pairs. \n",
    "\n",
    "`paid_total`, `installment` and `loan_amount` will be dropped as they have lower correlation or feature importance than their correlated ones. \n",
    "\n",
    "Now, we have 11 numerical features."
   ]
  },
  {
   "cell_type": "code",
   "execution_count": 30,
   "metadata": {},
   "outputs": [
    {
     "data": {
      "text/plain": [
       "10"
      ]
     },
     "execution_count": 30,
     "metadata": {},
     "output_type": "execute_result"
    }
   ],
   "source": [
    "continuous_cols = ['paid_interest', 'annual_income', 'months_since_last_credit_inquiry', 'paid_principal', 'total_debit_limit', 'inquiries_last_12m', 'total_credit_limit', 'num_mort_accounts', 'accounts_opened_24m', 'balance']\n",
    "len(continuous_cols)"
   ]
  },
  {
   "cell_type": "code",
   "execution_count": 31,
   "metadata": {},
   "outputs": [
    {
     "data": {
      "text/plain": [
       "<AxesSubplot:>"
      ]
     },
     "execution_count": 31,
     "metadata": {},
     "output_type": "execute_result"
    },
    {
     "data": {
      "image/png": "[encoded data removed]",
      "text/plain": [
       "<Figure size 432x288 with 2 Axes>"
      ]
     },
     "metadata": {
      "needs_background": "light"
     },
     "output_type": "display_data"
    }
   ],
   "source": [
    "sns.heatmap(abs(data[continuous_cols].corr()))"
   ]
  },
  {
   "cell_type": "code",
   "execution_count": 32,
   "metadata": {},
   "outputs": [],
   "source": [
    "data['term_new'] = 0\n",
    "data.loc[data['term'] == 60, 'term_new'] = 1"
   ]
  },
  {
   "cell_type": "markdown",
   "metadata": {},
   "source": [
    "### Categorical Features"
   ]
  },
  {
   "cell_type": "code",
   "execution_count": 33,
   "metadata": {},
   "outputs": [],
   "source": [
    "state_group = pd.DataFrame(data.groupby('state')['interest_rate'].mean()).reset_index().reset_index()"
   ]
  },
  {
   "cell_type": "code",
   "execution_count": 34,
   "metadata": {},
   "outputs": [
    {
     "name": "stderr",
     "output_type": "stream",
     "text": [
      "/Users/riliu/opt/anaconda3/lib/python3.8/site-packages/seaborn/_decorators.py:36: FutureWarning: Pass the following variables as keyword args: x, y. From version 0.12, the only valid positional argument will be `data`, and passing other arguments without an explicit keyword will result in an error or misinterpretation.\n",
      "  warnings.warn(\n"
     ]
    },
    {
     "data": {
      "image/png": "[encoded data removed]",
      "text/plain": [
       "<Figure size 720x576 with 1 Axes>"
      ]
     },
     "metadata": {
      "needs_background": "light"
     },
     "output_type": "display_data"
    }
   ],
   "source": [
    "fig,ax = plt.subplots(figsize=(10,8))\n",
    "sns.scatterplot(state_group['index'], state_group.interest_rate, ax=ax)\n",
    "def label_point(x, y, val, ax):\n",
    "    a = pd.concat({'x': x, 'y': y, 'val': val}, axis=1)\n",
    "    for i, point in a.iterrows():\n",
    "        ax.text(point['x'], point['y'], str(point['val']))\n",
    "\n",
    "label_point(state_group['index'], state_group.interest_rate, state_group.state, plt.gca())  \n"
   ]
  },
  {
   "cell_type": "code",
   "execution_count": 35,
   "metadata": {},
   "outputs": [],
   "source": [
    "from scipy import stats"
   ]
  },
  {
   "cell_type": "code",
   "execution_count": 36,
   "metadata": {},
   "outputs": [
    {
     "data": {
      "text/plain": [
       "F_onewayResult(statistic=32.649579903665376, pvalue=7.354893798699095e-15)"
      ]
     },
     "execution_count": 36,
     "metadata": {},
     "output_type": "execute_result"
    }
   ],
   "source": [
    "stats.f_oneway(data[data.homeownership == 'MORTGAGE'].interest_rate, data[data.homeownership == 'RENT'].interest_rate, data[data.homeownership == 'OWN'].interest_rate)"
   ]
  },
  {
   "cell_type": "code",
   "execution_count": 37,
   "metadata": {},
   "outputs": [],
   "source": [
    "import pingouin as pg"
   ]
  },
  {
   "cell_type": "code",
   "execution_count": 38,
   "metadata": {},
   "outputs": [],
   "source": [
    "catgorical_cols = list(meta_new[(meta_new.Type == 'object') & (meta_new.Unique < 15)].index)"
   ]
  },
  {
   "cell_type": "code",
   "execution_count": 39,
   "metadata": {},
   "outputs": [],
   "source": [
    "anova_dict = []\n",
    "for col in catgorical_cols:\n",
    "    pvalue = pg.anova(data, 'interest_rate', col)['p-unc'][0]\n",
    "    dict_tmp = {'Name': col, 'P-value': pvalue}\n",
    "    anova_dict.append(dict_tmp)"
   ]
  },
  {
   "cell_type": "code",
   "execution_count": 40,
   "metadata": {},
   "outputs": [
    {
     "data": {
      "text/html": [
       "<div>\n",
       "<style scoped>\n",
       "    .dataframe tbody tr th:only-of-type {\n",
       "        vertical-align: middle;\n",
       "    }\n",
       "\n",
       "    .dataframe tbody tr th {\n",
       "        vertical-align: top;\n",
       "    }\n",
       "\n",
       "    .dataframe thead th {\n",
       "        text-align: right;\n",
       "    }\n",
       "</style>\n",
       "<table border=\"1\" class=\"dataframe\">\n",
       "  <thead>\n",
       "    <tr style=\"text-align: right;\">\n",
       "      <th></th>\n",
       "      <th>P-value</th>\n",
       "    </tr>\n",
       "    <tr>\n",
       "      <th>Name</th>\n",
       "      <th></th>\n",
       "    </tr>\n",
       "  </thead>\n",
       "  <tbody>\n",
       "    <tr>\n",
       "      <th>homeownership</th>\n",
       "      <td>0.0000</td>\n",
       "    </tr>\n",
       "    <tr>\n",
       "      <th>verified_income</th>\n",
       "      <td>0.0000</td>\n",
       "    </tr>\n",
       "    <tr>\n",
       "      <th>loan_purpose</th>\n",
       "      <td>0.0000</td>\n",
       "    </tr>\n",
       "    <tr>\n",
       "      <th>application_type</th>\n",
       "      <td>0.0000</td>\n",
       "    </tr>\n",
       "    <tr>\n",
       "      <th>grade</th>\n",
       "      <td>0.0000</td>\n",
       "    </tr>\n",
       "    <tr>\n",
       "      <th>issue_month</th>\n",
       "      <td>0.5388</td>\n",
       "    </tr>\n",
       "    <tr>\n",
       "      <th>loan_status</th>\n",
       "      <td>0.0000</td>\n",
       "    </tr>\n",
       "    <tr>\n",
       "      <th>initial_listing_status</th>\n",
       "      <td>0.0000</td>\n",
       "    </tr>\n",
       "    <tr>\n",
       "      <th>disbursement_method</th>\n",
       "      <td>0.0000</td>\n",
       "    </tr>\n",
       "  </tbody>\n",
       "</table>\n",
       "</div>"
      ],
      "text/plain": [
       "                        P-value\n",
       "Name                           \n",
       "homeownership            0.0000\n",
       "verified_income          0.0000\n",
       "loan_purpose             0.0000\n",
       "application_type         0.0000\n",
       "grade                    0.0000\n",
       "issue_month              0.5388\n",
       "loan_status              0.0000\n",
       "initial_listing_status   0.0000\n",
       "disbursement_method      0.0000"
      ]
     },
     "execution_count": 40,
     "metadata": {},
     "output_type": "execute_result"
    }
   ],
   "source": [
    "pd.DataFrame(anova_dict).set_index('Name')"
   ]
  },
  {
   "cell_type": "code",
   "execution_count": 41,
   "metadata": {},
   "outputs": [
    {
     "data": {
      "text/html": [
       "<div>\n",
       "<style scoped>\n",
       "    .dataframe tbody tr th:only-of-type {\n",
       "        vertical-align: middle;\n",
       "    }\n",
       "\n",
       "    .dataframe tbody tr th {\n",
       "        vertical-align: top;\n",
       "    }\n",
       "\n",
       "    .dataframe thead th {\n",
       "        text-align: right;\n",
       "    }\n",
       "</style>\n",
       "<table border=\"1\" class=\"dataframe\">\n",
       "  <thead>\n",
       "    <tr style=\"text-align: right;\">\n",
       "      <th></th>\n",
       "      <th>A</th>\n",
       "      <th>B</th>\n",
       "      <th>mean(A)</th>\n",
       "      <th>mean(B)</th>\n",
       "      <th>diff</th>\n",
       "      <th>se</th>\n",
       "      <th>T</th>\n",
       "      <th>p-tukey</th>\n",
       "      <th>hedges</th>\n",
       "    </tr>\n",
       "  </thead>\n",
       "  <tbody>\n",
       "    <tr>\n",
       "      <th>0</th>\n",
       "      <td>MORTGAGE</td>\n",
       "      <td>OWN</td>\n",
       "      <td>12.0589</td>\n",
       "      <td>12.3140</td>\n",
       "      <td>-0.2551</td>\n",
       "      <td>0.1535</td>\n",
       "      <td>-1.6621</td>\n",
       "      <td>0.2199</td>\n",
       "      <td>-0.0512</td>\n",
       "    </tr>\n",
       "    <tr>\n",
       "      <th>1</th>\n",
       "      <td>MORTGAGE</td>\n",
       "      <td>RENT</td>\n",
       "      <td>12.0589</td>\n",
       "      <td>12.9250</td>\n",
       "      <td>-0.8661</td>\n",
       "      <td>0.1079</td>\n",
       "      <td>-8.0304</td>\n",
       "      <td>0.0000</td>\n",
       "      <td>-0.1737</td>\n",
       "    </tr>\n",
       "    <tr>\n",
       "      <th>2</th>\n",
       "      <td>OWN</td>\n",
       "      <td>RENT</td>\n",
       "      <td>12.3140</td>\n",
       "      <td>12.9250</td>\n",
       "      <td>-0.6110</td>\n",
       "      <td>0.1575</td>\n",
       "      <td>-3.8788</td>\n",
       "      <td>0.0003</td>\n",
       "      <td>-0.1225</td>\n",
       "    </tr>\n",
       "  </tbody>\n",
       "</table>\n",
       "</div>"
      ],
      "text/plain": [
       "          A     B  mean(A)  mean(B)    diff     se       T  p-tukey  hedges\n",
       "0  MORTGAGE   OWN  12.0589  12.3140 -0.2551 0.1535 -1.6621   0.2199 -0.0512\n",
       "1  MORTGAGE  RENT  12.0589  12.9250 -0.8661 0.1079 -8.0304   0.0000 -0.1737\n",
       "2       OWN  RENT  12.3140  12.9250 -0.6110 0.1575 -3.8788   0.0003 -0.1225"
      ]
     },
     "execution_count": 41,
     "metadata": {},
     "output_type": "execute_result"
    }
   ],
   "source": [
    "pg.pairwise_tukey(data, 'interest_rate', 'homeownership')"
   ]
  },
  {
   "cell_type": "code",
   "execution_count": 42,
   "metadata": {},
   "outputs": [
    {
     "data": {
      "text/html": [
       "<div>\n",
       "<style scoped>\n",
       "    .dataframe tbody tr th:only-of-type {\n",
       "        vertical-align: middle;\n",
       "    }\n",
       "\n",
       "    .dataframe tbody tr th {\n",
       "        vertical-align: top;\n",
       "    }\n",
       "\n",
       "    .dataframe thead th {\n",
       "        text-align: right;\n",
       "    }\n",
       "</style>\n",
       "<table border=\"1\" class=\"dataframe\">\n",
       "  <thead>\n",
       "    <tr style=\"text-align: right;\">\n",
       "      <th></th>\n",
       "      <th>A</th>\n",
       "      <th>B</th>\n",
       "      <th>mean(A)</th>\n",
       "      <th>mean(B)</th>\n",
       "      <th>diff</th>\n",
       "      <th>se</th>\n",
       "      <th>T</th>\n",
       "      <th>p-tukey</th>\n",
       "      <th>hedges</th>\n",
       "    </tr>\n",
       "  </thead>\n",
       "  <tbody>\n",
       "    <tr>\n",
       "      <th>0</th>\n",
       "      <td>Not Verified</td>\n",
       "      <td>Source Verified</td>\n",
       "      <td>11.0995</td>\n",
       "      <td>12.5155</td>\n",
       "      <td>-1.4160</td>\n",
       "      <td>0.1107</td>\n",
       "      <td>-12.7870</td>\n",
       "      <td>0.0000</td>\n",
       "      <td>-0.2919</td>\n",
       "    </tr>\n",
       "    <tr>\n",
       "      <th>1</th>\n",
       "      <td>Not Verified</td>\n",
       "      <td>Verified</td>\n",
       "      <td>11.0995</td>\n",
       "      <td>14.3537</td>\n",
       "      <td>-3.2543</td>\n",
       "      <td>0.1297</td>\n",
       "      <td>-25.0915</td>\n",
       "      <td>0.0000</td>\n",
       "      <td>-0.6708</td>\n",
       "    </tr>\n",
       "    <tr>\n",
       "      <th>2</th>\n",
       "      <td>Source Verified</td>\n",
       "      <td>Verified</td>\n",
       "      <td>12.5155</td>\n",
       "      <td>14.3537</td>\n",
       "      <td>-1.8383</td>\n",
       "      <td>0.1265</td>\n",
       "      <td>-14.5369</td>\n",
       "      <td>0.0000</td>\n",
       "      <td>-0.3789</td>\n",
       "    </tr>\n",
       "  </tbody>\n",
       "</table>\n",
       "</div>"
      ],
      "text/plain": [
       "                 A                B  mean(A)  mean(B)    diff     se        T  \\\n",
       "0     Not Verified  Source Verified  11.0995  12.5155 -1.4160 0.1107 -12.7870   \n",
       "1     Not Verified         Verified  11.0995  14.3537 -3.2543 0.1297 -25.0915   \n",
       "2  Source Verified         Verified  12.5155  14.3537 -1.8383 0.1265 -14.5369   \n",
       "\n",
       "   p-tukey  hedges  \n",
       "0   0.0000 -0.2919  \n",
       "1   0.0000 -0.6708  \n",
       "2   0.0000 -0.3789  "
      ]
     },
     "execution_count": 42,
     "metadata": {},
     "output_type": "execute_result"
    }
   ],
   "source": [
    "pg.pairwise_tukey(data, 'interest_rate', 'verified_income')"
   ]
  },
  {
   "cell_type": "code",
   "execution_count": 43,
   "metadata": {},
   "outputs": [],
   "source": [
    "tukey_loanPurpose = pg.pairwise_tukey(data, 'interest_rate', 'loan_purpose').sort_values('p-tukey')"
   ]
  },
  {
   "cell_type": "code",
   "execution_count": 44,
   "metadata": {},
   "outputs": [
    {
     "data": {
      "text/html": [
       "<div>\n",
       "<style scoped>\n",
       "    .dataframe tbody tr th:only-of-type {\n",
       "        vertical-align: middle;\n",
       "    }\n",
       "\n",
       "    .dataframe tbody tr th {\n",
       "        vertical-align: top;\n",
       "    }\n",
       "\n",
       "    .dataframe thead th {\n",
       "        text-align: right;\n",
       "    }\n",
       "</style>\n",
       "<table border=\"1\" class=\"dataframe\">\n",
       "  <thead>\n",
       "    <tr style=\"text-align: right;\">\n",
       "      <th></th>\n",
       "      <th>A</th>\n",
       "      <th>B</th>\n",
       "      <th>mean(A)</th>\n",
       "      <th>mean(B)</th>\n",
       "      <th>diff</th>\n",
       "      <th>se</th>\n",
       "      <th>T</th>\n",
       "      <th>p-tukey</th>\n",
       "      <th>hedges</th>\n",
       "    </tr>\n",
       "  </thead>\n",
       "  <tbody>\n",
       "    <tr>\n",
       "      <th>11</th>\n",
       "      <td>credit_card</td>\n",
       "      <td>debt_consolidation</td>\n",
       "      <td>11.4323</td>\n",
       "      <td>13.0095</td>\n",
       "      <td>-1.5772</td>\n",
       "      <td>0.1253</td>\n",
       "      <td>-12.5905</td>\n",
       "      <td>0.0000</td>\n",
       "      <td>-0.3182</td>\n",
       "    </tr>\n",
       "    <tr>\n",
       "      <th>21</th>\n",
       "      <td>debt_consolidation</td>\n",
       "      <td>home_improvement</td>\n",
       "      <td>13.0095</td>\n",
       "      <td>11.6203</td>\n",
       "      <td>1.3892</td>\n",
       "      <td>0.2022</td>\n",
       "      <td>6.8705</td>\n",
       "      <td>0.0000</td>\n",
       "      <td>0.2803</td>\n",
       "    </tr>\n",
       "    <tr>\n",
       "      <th>17</th>\n",
       "      <td>credit_card</td>\n",
       "      <td>other</td>\n",
       "      <td>11.4323</td>\n",
       "      <td>12.4258</td>\n",
       "      <td>-0.9934</td>\n",
       "      <td>0.1944</td>\n",
       "      <td>-5.1106</td>\n",
       "      <td>0.0000</td>\n",
       "      <td>-0.2004</td>\n",
       "    </tr>\n",
       "    <tr>\n",
       "      <th>22</th>\n",
       "      <td>debt_consolidation</td>\n",
       "      <td>house</td>\n",
       "      <td>13.0095</td>\n",
       "      <td>11.3699</td>\n",
       "      <td>1.6397</td>\n",
       "      <td>0.4091</td>\n",
       "      <td>4.0076</td>\n",
       "      <td>0.0036</td>\n",
       "      <td>0.3308</td>\n",
       "    </tr>\n",
       "    <tr>\n",
       "      <th>23</th>\n",
       "      <td>debt_consolidation</td>\n",
       "      <td>major_purchase</td>\n",
       "      <td>13.0095</td>\n",
       "      <td>11.9663</td>\n",
       "      <td>1.0433</td>\n",
       "      <td>0.2929</td>\n",
       "      <td>3.5613</td>\n",
       "      <td>0.0191</td>\n",
       "      <td>0.2105</td>\n",
       "    </tr>\n",
       "    <tr>\n",
       "      <th>19</th>\n",
       "      <td>credit_card</td>\n",
       "      <td>small_business</td>\n",
       "      <td>11.4323</td>\n",
       "      <td>13.0026</td>\n",
       "      <td>-1.5702</td>\n",
       "      <td>0.4554</td>\n",
       "      <td>-3.4482</td>\n",
       "      <td>0.0281</td>\n",
       "      <td>-0.3168</td>\n",
       "    </tr>\n",
       "    <tr>\n",
       "      <th>26</th>\n",
       "      <td>debt_consolidation</td>\n",
       "      <td>other</td>\n",
       "      <td>13.0095</td>\n",
       "      <td>12.4258</td>\n",
       "      <td>0.5838</td>\n",
       "      <td>0.1779</td>\n",
       "      <td>3.2819</td>\n",
       "      <td>0.0480</td>\n",
       "      <td>0.1178</td>\n",
       "    </tr>\n",
       "  </tbody>\n",
       "</table>\n",
       "</div>"
      ],
      "text/plain": [
       "                     A                   B  mean(A)  mean(B)    diff     se  \\\n",
       "11         credit_card  debt_consolidation  11.4323  13.0095 -1.5772 0.1253   \n",
       "21  debt_consolidation    home_improvement  13.0095  11.6203  1.3892 0.2022   \n",
       "17         credit_card               other  11.4323  12.4258 -0.9934 0.1944   \n",
       "22  debt_consolidation               house  13.0095  11.3699  1.6397 0.4091   \n",
       "23  debt_consolidation      major_purchase  13.0095  11.9663  1.0433 0.2929   \n",
       "19         credit_card      small_business  11.4323  13.0026 -1.5702 0.4554   \n",
       "26  debt_consolidation               other  13.0095  12.4258  0.5838 0.1779   \n",
       "\n",
       "          T  p-tukey  hedges  \n",
       "11 -12.5905   0.0000 -0.3182  \n",
       "21   6.8705   0.0000  0.2803  \n",
       "17  -5.1106   0.0000 -0.2004  \n",
       "22   4.0076   0.0036  0.3308  \n",
       "23   3.5613   0.0191  0.2105  \n",
       "19  -3.4482   0.0281 -0.3168  \n",
       "26   3.2819   0.0480  0.1178  "
      ]
     },
     "execution_count": 44,
     "metadata": {},
     "output_type": "execute_result"
    }
   ],
   "source": [
    "tukey_loanPurpose[tukey_loanPurpose['p-tukey'] < 0.05]"
   ]
  },
  {
   "cell_type": "code",
   "execution_count": 45,
   "metadata": {},
   "outputs": [
    {
     "data": {
      "text/html": [
       "<div>\n",
       "<style scoped>\n",
       "    .dataframe tbody tr th:only-of-type {\n",
       "        vertical-align: middle;\n",
       "    }\n",
       "\n",
       "    .dataframe tbody tr th {\n",
       "        vertical-align: top;\n",
       "    }\n",
       "\n",
       "    .dataframe thead th {\n",
       "        text-align: right;\n",
       "    }\n",
       "</style>\n",
       "<table border=\"1\" class=\"dataframe\">\n",
       "  <thead>\n",
       "    <tr style=\"text-align: right;\">\n",
       "      <th></th>\n",
       "      <th>A</th>\n",
       "      <th>B</th>\n",
       "      <th>mean(A)</th>\n",
       "      <th>mean(B)</th>\n",
       "      <th>diff</th>\n",
       "      <th>se</th>\n",
       "      <th>T</th>\n",
       "      <th>p-tukey</th>\n",
       "      <th>hedges</th>\n",
       "    </tr>\n",
       "  </thead>\n",
       "  <tbody>\n",
       "    <tr>\n",
       "      <th>0</th>\n",
       "      <td>individual</td>\n",
       "      <td>joint</td>\n",
       "      <td>12.2992</td>\n",
       "      <td>13.1575</td>\n",
       "      <td>-0.8583</td>\n",
       "      <td>0.1400</td>\n",
       "      <td>-6.1310</td>\n",
       "      <td>0.0000</td>\n",
       "      <td>-0.1719</td>\n",
       "    </tr>\n",
       "  </tbody>\n",
       "</table>\n",
       "</div>"
      ],
      "text/plain": [
       "            A      B  mean(A)  mean(B)    diff     se       T  p-tukey  hedges\n",
       "0  individual  joint  12.2992  13.1575 -0.8583 0.1400 -6.1310   0.0000 -0.1719"
      ]
     },
     "execution_count": 45,
     "metadata": {},
     "output_type": "execute_result"
    }
   ],
   "source": [
    "pg.pairwise_tukey(data, 'interest_rate', 'application_type').sort_values('p-tukey')"
   ]
  },
  {
   "cell_type": "code",
   "execution_count": 46,
   "metadata": {},
   "outputs": [
    {
     "data": {
      "text/html": [
       "<div>\n",
       "<style scoped>\n",
       "    .dataframe tbody tr th:only-of-type {\n",
       "        vertical-align: middle;\n",
       "    }\n",
       "\n",
       "    .dataframe tbody tr th {\n",
       "        vertical-align: top;\n",
       "    }\n",
       "\n",
       "    .dataframe thead th {\n",
       "        text-align: right;\n",
       "    }\n",
       "</style>\n",
       "<table border=\"1\" class=\"dataframe\">\n",
       "  <thead>\n",
       "    <tr style=\"text-align: right;\">\n",
       "      <th></th>\n",
       "      <th>A</th>\n",
       "      <th>B</th>\n",
       "      <th>mean(A)</th>\n",
       "      <th>mean(B)</th>\n",
       "      <th>diff</th>\n",
       "      <th>se</th>\n",
       "      <th>T</th>\n",
       "      <th>p-tukey</th>\n",
       "      <th>hedges</th>\n",
       "    </tr>\n",
       "  </thead>\n",
       "  <tbody>\n",
       "    <tr>\n",
       "      <th>0</th>\n",
       "      <td>A</td>\n",
       "      <td>B</td>\n",
       "      <td>6.7426</td>\n",
       "      <td>10.5241</td>\n",
       "      <td>-3.7815</td>\n",
       "      <td>0.0301</td>\n",
       "      <td>-125.8136</td>\n",
       "      <td>0.0000</td>\n",
       "      <td>-3.4126</td>\n",
       "    </tr>\n",
       "    <tr>\n",
       "      <th>18</th>\n",
       "      <td>E</td>\n",
       "      <td>F</td>\n",
       "      <td>25.1034</td>\n",
       "      <td>29.4019</td>\n",
       "      <td>-4.2985</td>\n",
       "      <td>0.1576</td>\n",
       "      <td>-27.2800</td>\n",
       "      <td>0.0000</td>\n",
       "      <td>-3.8723</td>\n",
       "    </tr>\n",
       "    <tr>\n",
       "      <th>17</th>\n",
       "      <td>D</td>\n",
       "      <td>G</td>\n",
       "      <td>19.1135</td>\n",
       "      <td>30.8025</td>\n",
       "      <td>-11.6890</td>\n",
       "      <td>0.3212</td>\n",
       "      <td>-36.3968</td>\n",
       "      <td>0.0000</td>\n",
       "      <td>-10.5449</td>\n",
       "    </tr>\n",
       "    <tr>\n",
       "      <th>16</th>\n",
       "      <td>D</td>\n",
       "      <td>F</td>\n",
       "      <td>19.1135</td>\n",
       "      <td>29.4019</td>\n",
       "      <td>-10.2884</td>\n",
       "      <td>0.1484</td>\n",
       "      <td>-69.3445</td>\n",
       "      <td>0.0000</td>\n",
       "      <td>-9.2816</td>\n",
       "    </tr>\n",
       "    <tr>\n",
       "      <th>15</th>\n",
       "      <td>D</td>\n",
       "      <td>E</td>\n",
       "      <td>19.1135</td>\n",
       "      <td>25.1034</td>\n",
       "      <td>-5.9900</td>\n",
       "      <td>0.0672</td>\n",
       "      <td>-89.1633</td>\n",
       "      <td>0.0000</td>\n",
       "      <td>-5.4042</td>\n",
       "    </tr>\n",
       "    <tr>\n",
       "      <th>14</th>\n",
       "      <td>C</td>\n",
       "      <td>G</td>\n",
       "      <td>14.1767</td>\n",
       "      <td>30.8025</td>\n",
       "      <td>-16.6258</td>\n",
       "      <td>0.3206</td>\n",
       "      <td>-51.8659</td>\n",
       "      <td>0.0000</td>\n",
       "      <td>-15.0020</td>\n",
       "    </tr>\n",
       "    <tr>\n",
       "      <th>13</th>\n",
       "      <td>C</td>\n",
       "      <td>F</td>\n",
       "      <td>14.1767</td>\n",
       "      <td>29.4019</td>\n",
       "      <td>-15.2252</td>\n",
       "      <td>0.1471</td>\n",
       "      <td>-103.5307</td>\n",
       "      <td>0.0000</td>\n",
       "      <td>-13.7382</td>\n",
       "    </tr>\n",
       "    <tr>\n",
       "      <th>12</th>\n",
       "      <td>C</td>\n",
       "      <td>E</td>\n",
       "      <td>14.1767</td>\n",
       "      <td>25.1034</td>\n",
       "      <td>-10.9267</td>\n",
       "      <td>0.0642</td>\n",
       "      <td>-170.0898</td>\n",
       "      <td>0.0000</td>\n",
       "      <td>-9.8598</td>\n",
       "    </tr>\n",
       "    <tr>\n",
       "      <th>11</th>\n",
       "      <td>C</td>\n",
       "      <td>D</td>\n",
       "      <td>14.1767</td>\n",
       "      <td>19.1135</td>\n",
       "      <td>-4.9368</td>\n",
       "      <td>0.0362</td>\n",
       "      <td>-136.3150</td>\n",
       "      <td>0.0000</td>\n",
       "      <td>-4.4550</td>\n",
       "    </tr>\n",
       "    <tr>\n",
       "      <th>19</th>\n",
       "      <td>E</td>\n",
       "      <td>G</td>\n",
       "      <td>25.1034</td>\n",
       "      <td>30.8025</td>\n",
       "      <td>-5.6991</td>\n",
       "      <td>0.3255</td>\n",
       "      <td>-17.5082</td>\n",
       "      <td>0.0000</td>\n",
       "      <td>-5.1327</td>\n",
       "    </tr>\n",
       "    <tr>\n",
       "      <th>10</th>\n",
       "      <td>B</td>\n",
       "      <td>G</td>\n",
       "      <td>10.5241</td>\n",
       "      <td>30.8025</td>\n",
       "      <td>-20.2784</td>\n",
       "      <td>0.3205</td>\n",
       "      <td>-63.2785</td>\n",
       "      <td>0.0000</td>\n",
       "      <td>-18.2985</td>\n",
       "    </tr>\n",
       "    <tr>\n",
       "      <th>8</th>\n",
       "      <td>B</td>\n",
       "      <td>E</td>\n",
       "      <td>10.5241</td>\n",
       "      <td>25.1034</td>\n",
       "      <td>-14.5793</td>\n",
       "      <td>0.0638</td>\n",
       "      <td>-228.5736</td>\n",
       "      <td>0.0000</td>\n",
       "      <td>-13.1561</td>\n",
       "    </tr>\n",
       "    <tr>\n",
       "      <th>7</th>\n",
       "      <td>B</td>\n",
       "      <td>D</td>\n",
       "      <td>10.5241</td>\n",
       "      <td>19.1135</td>\n",
       "      <td>-8.5893</td>\n",
       "      <td>0.0354</td>\n",
       "      <td>-242.6446</td>\n",
       "      <td>0.0000</td>\n",
       "      <td>-7.7513</td>\n",
       "    </tr>\n",
       "    <tr>\n",
       "      <th>6</th>\n",
       "      <td>B</td>\n",
       "      <td>C</td>\n",
       "      <td>10.5241</td>\n",
       "      <td>14.1767</td>\n",
       "      <td>-3.6526</td>\n",
       "      <td>0.0294</td>\n",
       "      <td>-124.0580</td>\n",
       "      <td>0.0000</td>\n",
       "      <td>-3.2963</td>\n",
       "    </tr>\n",
       "    <tr>\n",
       "      <th>5</th>\n",
       "      <td>A</td>\n",
       "      <td>G</td>\n",
       "      <td>6.7426</td>\n",
       "      <td>30.8025</td>\n",
       "      <td>-24.0599</td>\n",
       "      <td>0.3206</td>\n",
       "      <td>-75.0438</td>\n",
       "      <td>0.0000</td>\n",
       "      <td>-21.7095</td>\n",
       "    </tr>\n",
       "    <tr>\n",
       "      <th>4</th>\n",
       "      <td>A</td>\n",
       "      <td>F</td>\n",
       "      <td>6.7426</td>\n",
       "      <td>29.4019</td>\n",
       "      <td>-22.6593</td>\n",
       "      <td>0.1472</td>\n",
       "      <td>-153.9522</td>\n",
       "      <td>0.0000</td>\n",
       "      <td>-20.4458</td>\n",
       "    </tr>\n",
       "    <tr>\n",
       "      <th>3</th>\n",
       "      <td>A</td>\n",
       "      <td>E</td>\n",
       "      <td>6.7426</td>\n",
       "      <td>25.1034</td>\n",
       "      <td>-18.3608</td>\n",
       "      <td>0.0645</td>\n",
       "      <td>-284.5560</td>\n",
       "      <td>0.0000</td>\n",
       "      <td>-16.5677</td>\n",
       "    </tr>\n",
       "    <tr>\n",
       "      <th>2</th>\n",
       "      <td>A</td>\n",
       "      <td>D</td>\n",
       "      <td>6.7426</td>\n",
       "      <td>19.1135</td>\n",
       "      <td>-12.3708</td>\n",
       "      <td>0.0367</td>\n",
       "      <td>-336.9300</td>\n",
       "      <td>0.0000</td>\n",
       "      <td>-11.1636</td>\n",
       "    </tr>\n",
       "    <tr>\n",
       "      <th>1</th>\n",
       "      <td>A</td>\n",
       "      <td>C</td>\n",
       "      <td>6.7426</td>\n",
       "      <td>14.1767</td>\n",
       "      <td>-7.4341</td>\n",
       "      <td>0.0310</td>\n",
       "      <td>-239.6996</td>\n",
       "      <td>0.0000</td>\n",
       "      <td>-6.7089</td>\n",
       "    </tr>\n",
       "    <tr>\n",
       "      <th>9</th>\n",
       "      <td>B</td>\n",
       "      <td>F</td>\n",
       "      <td>10.5241</td>\n",
       "      <td>29.4019</td>\n",
       "      <td>-18.8778</td>\n",
       "      <td>0.1469</td>\n",
       "      <td>-128.5422</td>\n",
       "      <td>0.0000</td>\n",
       "      <td>-17.0347</td>\n",
       "    </tr>\n",
       "    <tr>\n",
       "      <th>20</th>\n",
       "      <td>F</td>\n",
       "      <td>G</td>\n",
       "      <td>29.4019</td>\n",
       "      <td>30.8025</td>\n",
       "      <td>-1.4006</td>\n",
       "      <td>0.3514</td>\n",
       "      <td>-3.9862</td>\n",
       "      <td>0.0013</td>\n",
       "      <td>-1.2502</td>\n",
       "    </tr>\n",
       "  </tbody>\n",
       "</table>\n",
       "</div>"
      ],
      "text/plain": [
       "    A  B  mean(A)  mean(B)     diff     se         T  p-tukey   hedges\n",
       "0   A  B   6.7426  10.5241  -3.7815 0.0301 -125.8136   0.0000  -3.4126\n",
       "18  E  F  25.1034  29.4019  -4.2985 0.1576  -27.2800   0.0000  -3.8723\n",
       "17  D  G  19.1135  30.8025 -11.6890 0.3212  -36.3968   0.0000 -10.5449\n",
       "16  D  F  19.1135  29.4019 -10.2884 0.1484  -69.3445   0.0000  -9.2816\n",
       "15  D  E  19.1135  25.1034  -5.9900 0.0672  -89.1633   0.0000  -5.4042\n",
       "14  C  G  14.1767  30.8025 -16.6258 0.3206  -51.8659   0.0000 -15.0020\n",
       "13  C  F  14.1767  29.4019 -15.2252 0.1471 -103.5307   0.0000 -13.7382\n",
       "12  C  E  14.1767  25.1034 -10.9267 0.0642 -170.0898   0.0000  -9.8598\n",
       "11  C  D  14.1767  19.1135  -4.9368 0.0362 -136.3150   0.0000  -4.4550\n",
       "19  E  G  25.1034  30.8025  -5.6991 0.3255  -17.5082   0.0000  -5.1327\n",
       "10  B  G  10.5241  30.8025 -20.2784 0.3205  -63.2785   0.0000 -18.2985\n",
       "8   B  E  10.5241  25.1034 -14.5793 0.0638 -228.5736   0.0000 -13.1561\n",
       "7   B  D  10.5241  19.1135  -8.5893 0.0354 -242.6446   0.0000  -7.7513\n",
       "6   B  C  10.5241  14.1767  -3.6526 0.0294 -124.0580   0.0000  -3.2963\n",
       "5   A  G   6.7426  30.8025 -24.0599 0.3206  -75.0438   0.0000 -21.7095\n",
       "4   A  F   6.7426  29.4019 -22.6593 0.1472 -153.9522   0.0000 -20.4458\n",
       "3   A  E   6.7426  25.1034 -18.3608 0.0645 -284.5560   0.0000 -16.5677\n",
       "2   A  D   6.7426  19.1135 -12.3708 0.0367 -336.9300   0.0000 -11.1636\n",
       "1   A  C   6.7426  14.1767  -7.4341 0.0310 -239.6996   0.0000  -6.7089\n",
       "9   B  F  10.5241  29.4019 -18.8778 0.1469 -128.5422   0.0000 -17.0347\n",
       "20  F  G  29.4019  30.8025  -1.4006 0.3514   -3.9862   0.0013  -1.2502"
      ]
     },
     "execution_count": 46,
     "metadata": {},
     "output_type": "execute_result"
    }
   ],
   "source": [
    "pg.pairwise_tukey(data, 'interest_rate', 'grade').sort_values('p-tukey')"
   ]
  },
  {
   "cell_type": "code",
   "execution_count": 47,
   "metadata": {},
   "outputs": [
    {
     "data": {
      "text/html": [
       "<div>\n",
       "<style scoped>\n",
       "    .dataframe tbody tr th:only-of-type {\n",
       "        vertical-align: middle;\n",
       "    }\n",
       "\n",
       "    .dataframe tbody tr th {\n",
       "        vertical-align: top;\n",
       "    }\n",
       "\n",
       "    .dataframe thead th {\n",
       "        text-align: right;\n",
       "    }\n",
       "</style>\n",
       "<table border=\"1\" class=\"dataframe\">\n",
       "  <thead>\n",
       "    <tr style=\"text-align: right;\">\n",
       "      <th></th>\n",
       "      <th>A</th>\n",
       "      <th>B</th>\n",
       "      <th>mean(A)</th>\n",
       "      <th>mean(B)</th>\n",
       "      <th>diff</th>\n",
       "      <th>se</th>\n",
       "      <th>T</th>\n",
       "      <th>p-tukey</th>\n",
       "      <th>hedges</th>\n",
       "    </tr>\n",
       "  </thead>\n",
       "  <tbody>\n",
       "    <tr>\n",
       "      <th>8</th>\n",
       "      <td>Current</td>\n",
       "      <td>Late (31-120 days)</td>\n",
       "      <td>12.3109</td>\n",
       "      <td>16.5250</td>\n",
       "      <td>-4.2141</td>\n",
       "      <td>0.6141</td>\n",
       "      <td>-6.8627</td>\n",
       "      <td>0.0000</td>\n",
       "      <td>-0.8476</td>\n",
       "    </tr>\n",
       "    <tr>\n",
       "      <th>7</th>\n",
       "      <td>Current</td>\n",
       "      <td>Late (16-30 days)</td>\n",
       "      <td>12.3109</td>\n",
       "      <td>16.8474</td>\n",
       "      <td>-4.5365</td>\n",
       "      <td>0.8081</td>\n",
       "      <td>-5.6140</td>\n",
       "      <td>0.0000</td>\n",
       "      <td>-0.9125</td>\n",
       "    </tr>\n",
       "    <tr>\n",
       "      <th>6</th>\n",
       "      <td>Current</td>\n",
       "      <td>In Grace Period</td>\n",
       "      <td>12.3109</td>\n",
       "      <td>15.6449</td>\n",
       "      <td>-3.3341</td>\n",
       "      <td>0.6095</td>\n",
       "      <td>-5.4702</td>\n",
       "      <td>0.0000</td>\n",
       "      <td>-0.6706</td>\n",
       "    </tr>\n",
       "    <tr>\n",
       "      <th>11</th>\n",
       "      <td>Fully Paid</td>\n",
       "      <td>Late (31-120 days)</td>\n",
       "      <td>13.4119</td>\n",
       "      <td>16.5250</td>\n",
       "      <td>-3.1131</td>\n",
       "      <td>0.6555</td>\n",
       "      <td>-4.7489</td>\n",
       "      <td>0.0000</td>\n",
       "      <td>-0.6253</td>\n",
       "    </tr>\n",
       "    <tr>\n",
       "      <th>5</th>\n",
       "      <td>Current</td>\n",
       "      <td>Fully Paid</td>\n",
       "      <td>12.3109</td>\n",
       "      <td>13.4119</td>\n",
       "      <td>-1.1011</td>\n",
       "      <td>0.2407</td>\n",
       "      <td>-4.5750</td>\n",
       "      <td>0.0001</td>\n",
       "      <td>-0.2215</td>\n",
       "    </tr>\n",
       "    <tr>\n",
       "      <th>10</th>\n",
       "      <td>Fully Paid</td>\n",
       "      <td>Late (16-30 days)</td>\n",
       "      <td>13.4119</td>\n",
       "      <td>16.8474</td>\n",
       "      <td>-3.4354</td>\n",
       "      <td>0.8400</td>\n",
       "      <td>-4.0897</td>\n",
       "      <td>0.0006</td>\n",
       "      <td>-0.6900</td>\n",
       "    </tr>\n",
       "    <tr>\n",
       "      <th>9</th>\n",
       "      <td>Fully Paid</td>\n",
       "      <td>In Grace Period</td>\n",
       "      <td>13.4119</td>\n",
       "      <td>15.6449</td>\n",
       "      <td>-2.2330</td>\n",
       "      <td>0.6513</td>\n",
       "      <td>-3.4288</td>\n",
       "      <td>0.0080</td>\n",
       "      <td>-0.4485</td>\n",
       "    </tr>\n",
       "    <tr>\n",
       "      <th>3</th>\n",
       "      <td>Charged Off</td>\n",
       "      <td>Late (16-30 days)</td>\n",
       "      <td>12.3829</td>\n",
       "      <td>16.8474</td>\n",
       "      <td>-4.4645</td>\n",
       "      <td>2.0447</td>\n",
       "      <td>-2.1835</td>\n",
       "      <td>0.2455</td>\n",
       "      <td>-0.8823</td>\n",
       "    </tr>\n",
       "    <tr>\n",
       "      <th>4</th>\n",
       "      <td>Charged Off</td>\n",
       "      <td>Late (31-120 days)</td>\n",
       "      <td>12.3829</td>\n",
       "      <td>16.5250</td>\n",
       "      <td>-4.1421</td>\n",
       "      <td>1.9761</td>\n",
       "      <td>-2.0962</td>\n",
       "      <td>0.2892</td>\n",
       "      <td>-0.8244</td>\n",
       "    </tr>\n",
       "    <tr>\n",
       "      <th>2</th>\n",
       "      <td>Charged Off</td>\n",
       "      <td>In Grace Period</td>\n",
       "      <td>12.3829</td>\n",
       "      <td>15.6449</td>\n",
       "      <td>-3.2621</td>\n",
       "      <td>1.9747</td>\n",
       "      <td>-1.6520</td>\n",
       "      <td>0.5639</td>\n",
       "      <td>-0.6493</td>\n",
       "    </tr>\n",
       "    <tr>\n",
       "      <th>12</th>\n",
       "      <td>In Grace Period</td>\n",
       "      <td>Late (16-30 days)</td>\n",
       "      <td>15.6449</td>\n",
       "      <td>16.8474</td>\n",
       "      <td>-1.2024</td>\n",
       "      <td>1.0095</td>\n",
       "      <td>-1.1911</td>\n",
       "      <td>0.8413</td>\n",
       "      <td>-0.2401</td>\n",
       "    </tr>\n",
       "    <tr>\n",
       "      <th>13</th>\n",
       "      <td>In Grace Period</td>\n",
       "      <td>Late (31-120 days)</td>\n",
       "      <td>15.6449</td>\n",
       "      <td>16.5250</td>\n",
       "      <td>-0.8801</td>\n",
       "      <td>0.8621</td>\n",
       "      <td>-1.0208</td>\n",
       "      <td>0.9112</td>\n",
       "      <td>-0.1760</td>\n",
       "    </tr>\n",
       "    <tr>\n",
       "      <th>1</th>\n",
       "      <td>Charged Off</td>\n",
       "      <td>Fully Paid</td>\n",
       "      <td>12.3829</td>\n",
       "      <td>13.4119</td>\n",
       "      <td>-1.0291</td>\n",
       "      <td>1.8936</td>\n",
       "      <td>-0.5434</td>\n",
       "      <td>0.9944</td>\n",
       "      <td>-0.2067</td>\n",
       "    </tr>\n",
       "    <tr>\n",
       "      <th>14</th>\n",
       "      <td>Late (16-30 days)</td>\n",
       "      <td>Late (31-120 days)</td>\n",
       "      <td>16.8474</td>\n",
       "      <td>16.5250</td>\n",
       "      <td>0.3224</td>\n",
       "      <td>1.0123</td>\n",
       "      <td>0.3184</td>\n",
       "      <td>0.9996</td>\n",
       "      <td>0.0644</td>\n",
       "    </tr>\n",
       "    <tr>\n",
       "      <th>0</th>\n",
       "      <td>Charged Off</td>\n",
       "      <td>Current</td>\n",
       "      <td>12.3829</td>\n",
       "      <td>12.3109</td>\n",
       "      <td>0.0720</td>\n",
       "      <td>1.8796</td>\n",
       "      <td>0.0383</td>\n",
       "      <td>1.0000</td>\n",
       "      <td>0.0145</td>\n",
       "    </tr>\n",
       "  </tbody>\n",
       "</table>\n",
       "</div>"
      ],
      "text/plain": [
       "                    A                   B  mean(A)  mean(B)    diff     se  \\\n",
       "8             Current  Late (31-120 days)  12.3109  16.5250 -4.2141 0.6141   \n",
       "7             Current   Late (16-30 days)  12.3109  16.8474 -4.5365 0.8081   \n",
       "6             Current     In Grace Period  12.3109  15.6449 -3.3341 0.6095   \n",
       "11         Fully Paid  Late (31-120 days)  13.4119  16.5250 -3.1131 0.6555   \n",
       "5             Current          Fully Paid  12.3109  13.4119 -1.1011 0.2407   \n",
       "10         Fully Paid   Late (16-30 days)  13.4119  16.8474 -3.4354 0.8400   \n",
       "9          Fully Paid     In Grace Period  13.4119  15.6449 -2.2330 0.6513   \n",
       "3         Charged Off   Late (16-30 days)  12.3829  16.8474 -4.4645 2.0447   \n",
       "4         Charged Off  Late (31-120 days)  12.3829  16.5250 -4.1421 1.9761   \n",
       "2         Charged Off     In Grace Period  12.3829  15.6449 -3.2621 1.9747   \n",
       "12    In Grace Period   Late (16-30 days)  15.6449  16.8474 -1.2024 1.0095   \n",
       "13    In Grace Period  Late (31-120 days)  15.6449  16.5250 -0.8801 0.8621   \n",
       "1         Charged Off          Fully Paid  12.3829  13.4119 -1.0291 1.8936   \n",
       "14  Late (16-30 days)  Late (31-120 days)  16.8474  16.5250  0.3224 1.0123   \n",
       "0         Charged Off             Current  12.3829  12.3109  0.0720 1.8796   \n",
       "\n",
       "         T  p-tukey  hedges  \n",
       "8  -6.8627   0.0000 -0.8476  \n",
       "7  -5.6140   0.0000 -0.9125  \n",
       "6  -5.4702   0.0000 -0.6706  \n",
       "11 -4.7489   0.0000 -0.6253  \n",
       "5  -4.5750   0.0001 -0.2215  \n",
       "10 -4.0897   0.0006 -0.6900  \n",
       "9  -3.4288   0.0080 -0.4485  \n",
       "3  -2.1835   0.2455 -0.8823  \n",
       "4  -2.0962   0.2892 -0.8244  \n",
       "2  -1.6520   0.5639 -0.6493  \n",
       "12 -1.1911   0.8413 -0.2401  \n",
       "13 -1.0208   0.9112 -0.1760  \n",
       "1  -0.5434   0.9944 -0.2067  \n",
       "14  0.3184   0.9996  0.0644  \n",
       "0   0.0383   1.0000  0.0145  "
      ]
     },
     "execution_count": 47,
     "metadata": {},
     "output_type": "execute_result"
    }
   ],
   "source": [
    "pg.pairwise_tukey(data, 'interest_rate', 'loan_status').sort_values('p-tukey')"
   ]
  },
  {
   "cell_type": "code",
   "execution_count": 48,
   "metadata": {},
   "outputs": [
    {
     "data": {
      "text/html": [
       "<div>\n",
       "<style scoped>\n",
       "    .dataframe tbody tr th:only-of-type {\n",
       "        vertical-align: middle;\n",
       "    }\n",
       "\n",
       "    .dataframe tbody tr th {\n",
       "        vertical-align: top;\n",
       "    }\n",
       "\n",
       "    .dataframe thead th {\n",
       "        text-align: right;\n",
       "    }\n",
       "</style>\n",
       "<table border=\"1\" class=\"dataframe\">\n",
       "  <thead>\n",
       "    <tr style=\"text-align: right;\">\n",
       "      <th></th>\n",
       "      <th>A</th>\n",
       "      <th>B</th>\n",
       "      <th>mean(A)</th>\n",
       "      <th>mean(B)</th>\n",
       "      <th>diff</th>\n",
       "      <th>se</th>\n",
       "      <th>T</th>\n",
       "      <th>p-tukey</th>\n",
       "      <th>hedges</th>\n",
       "    </tr>\n",
       "  </thead>\n",
       "  <tbody>\n",
       "    <tr>\n",
       "      <th>0</th>\n",
       "      <td>fractional</td>\n",
       "      <td>whole</td>\n",
       "      <td>13.4975</td>\n",
       "      <td>12.1936</td>\n",
       "      <td>1.3039</td>\n",
       "      <td>0.1297</td>\n",
       "      <td>10.0534</td>\n",
       "      <td>0.0000</td>\n",
       "      <td>0.2620</td>\n",
       "    </tr>\n",
       "  </tbody>\n",
       "</table>\n",
       "</div>"
      ],
      "text/plain": [
       "            A      B  mean(A)  mean(B)   diff     se       T  p-tukey  hedges\n",
       "0  fractional  whole  13.4975  12.1936 1.3039 0.1297 10.0534   0.0000  0.2620"
      ]
     },
     "execution_count": 48,
     "metadata": {},
     "output_type": "execute_result"
    }
   ],
   "source": [
    "pg.pairwise_tukey(data, 'interest_rate', 'initial_listing_status').sort_values('p-tukey')"
   ]
  },
  {
   "cell_type": "code",
   "execution_count": 49,
   "metadata": {},
   "outputs": [
    {
     "data": {
      "text/html": [
       "<div>\n",
       "<style scoped>\n",
       "    .dataframe tbody tr th:only-of-type {\n",
       "        vertical-align: middle;\n",
       "    }\n",
       "\n",
       "    .dataframe tbody tr th {\n",
       "        vertical-align: top;\n",
       "    }\n",
       "\n",
       "    .dataframe thead th {\n",
       "        text-align: right;\n",
       "    }\n",
       "</style>\n",
       "<table border=\"1\" class=\"dataframe\">\n",
       "  <thead>\n",
       "    <tr style=\"text-align: right;\">\n",
       "      <th></th>\n",
       "      <th>A</th>\n",
       "      <th>B</th>\n",
       "      <th>mean(A)</th>\n",
       "      <th>mean(B)</th>\n",
       "      <th>diff</th>\n",
       "      <th>se</th>\n",
       "      <th>T</th>\n",
       "      <th>p-tukey</th>\n",
       "      <th>hedges</th>\n",
       "    </tr>\n",
       "  </thead>\n",
       "  <tbody>\n",
       "    <tr>\n",
       "      <th>0</th>\n",
       "      <td>Cash</td>\n",
       "      <td>DirectPay</td>\n",
       "      <td>12.6619</td>\n",
       "      <td>9.3880</td>\n",
       "      <td>3.2739</td>\n",
       "      <td>0.1912</td>\n",
       "      <td>17.1232</td>\n",
       "      <td>0.0000</td>\n",
       "      <td>0.6641</td>\n",
       "    </tr>\n",
       "  </tbody>\n",
       "</table>\n",
       "</div>"
      ],
      "text/plain": [
       "      A          B  mean(A)  mean(B)   diff     se       T  p-tukey  hedges\n",
       "0  Cash  DirectPay  12.6619   9.3880 3.2739 0.1912 17.1232   0.0000  0.6641"
      ]
     },
     "execution_count": 49,
     "metadata": {},
     "output_type": "execute_result"
    }
   ],
   "source": [
    "pg.pairwise_tukey(data, 'interest_rate', 'disbursement_method').sort_values('p-tukey')"
   ]
  },
  {
   "cell_type": "markdown",
   "metadata": {},
   "source": [
    "`state` to be recoded as 2 levels ('HI' or 'ND' and 'other')\n",
    "\n",
    "`homeownership` to be rocoded as `Rent` and `other`\n",
    "\n",
    "`verified_income` to be kept the 3 levels\n",
    "\n",
    "`loan_purpose` to be recoded as `credit_card`, `debt_consolidation` and `other`\n",
    "\n",
    "`grade` to be recoded as ordinal\n",
    "\n",
    "`loan_status` to be recoded as `Current`, `Fully paid` and `other`\n",
    "\n",
    "`application_type`, `initial_listing_status` and `disbursement_method` to be recoded as binary"
   ]
  },
  {
   "cell_type": "code",
   "execution_count": 50,
   "metadata": {},
   "outputs": [],
   "source": [
    "# state\n",
    "data['state_new'] = 0\n",
    "data.loc[(data['state'] == 'HI') | (data['state'] == 'ND'), 'state_new'] = 1"
   ]
  },
  {
   "cell_type": "code",
   "execution_count": 51,
   "metadata": {},
   "outputs": [],
   "source": [
    "# homeownership \n",
    "data['homeownership_new'] = 0\n",
    "data.loc[data['homeownership'] == 'RENT', 'homeownership_new'] = 1"
   ]
  },
  {
   "cell_type": "code",
   "execution_count": 52,
   "metadata": {},
   "outputs": [],
   "source": [
    "# verified_income\n",
    "data['verified_income_sourceVerified'] = 0\n",
    "data.loc[data['verified_income'] == 'Source Verified', 'verified_income_sourceVerified'] = 1\n",
    "\n",
    "data['verified_income_Verified'] = 0\n",
    "data.loc[data['verified_income'] == 'Verified', 'verified_income_Verified'] = 1\n"
   ]
  },
  {
   "cell_type": "code",
   "execution_count": 53,
   "metadata": {},
   "outputs": [],
   "source": [
    "# loan purpose\n",
    "data['loan_purpose_card'] = 0\n",
    "data.loc[data['loan_purpose'] == 'credit_card', 'loan_purpose_card'] = 1\n",
    "\n",
    "data['loan_purpose_consolid'] = 0\n",
    "data.loc[data['loan_purpose'] == 'debt_consolidation', 'loan_purpose_consolid'] = 1"
   ]
  },
  {
   "cell_type": "code",
   "execution_count": 54,
   "metadata": {},
   "outputs": [],
   "source": [
    "# grade\n",
    "data['grade_new'] = 0\n",
    "data.loc[data['grade'] == 'A', 'grade_new'] = 1\n",
    "data.loc[data['grade'] == 'B', 'grade_new'] = 2\n",
    "data.loc[data['grade'] == 'C', 'grade_new'] = 3\n",
    "data.loc[data['grade'] == 'D', 'grade_new'] = 4\n",
    "data.loc[data['grade'] == 'E', 'grade_new'] = 5\n",
    "data.loc[data['grade'] == 'F', 'grade_new'] = 6\n",
    "data.loc[data['grade'] == 'G', 'grade_new'] = 7"
   ]
  },
  {
   "cell_type": "code",
   "execution_count": 55,
   "metadata": {},
   "outputs": [],
   "source": [
    "# loan_status\n",
    "data['loan_status_current'] = 0\n",
    "data.loc[data['loan_status'] == 'Current', 'loan_status_current'] = 1\n",
    "\n",
    "data['loan_status_paid'] = 0\n",
    "data.loc[data['loan_status'] == 'Fully Paid', 'loan_status_paid'] = 1"
   ]
  },
  {
   "cell_type": "code",
   "execution_count": 56,
   "metadata": {},
   "outputs": [],
   "source": [
    "# application_type\n",
    "data['application_type_new'] = 0\n",
    "data.loc[data['application_type'] == 'joint', 'application_type_new'] = 1"
   ]
  },
  {
   "cell_type": "code",
   "execution_count": 57,
   "metadata": {},
   "outputs": [],
   "source": [
    "# initial_listing_status\n",
    "data['initial_listing_status_new'] = 0\n",
    "data.loc[data['initial_listing_status'] == 'fractional', 'initial_listing_status_new'] = 1"
   ]
  },
  {
   "cell_type": "code",
   "execution_count": 58,
   "metadata": {},
   "outputs": [],
   "source": [
    "# disbursement_method\n",
    "data['disbursement_method_new'] = 0\n",
    "data.loc[data['disbursement_method'] == 'DirectPay', 'disbursement_method_new'] = 1"
   ]
  },
  {
   "cell_type": "markdown",
   "metadata": {},
   "source": [
    "### XGBoost for categorical features"
   ]
  },
  {
   "cell_type": "code",
   "execution_count": 59,
   "metadata": {},
   "outputs": [
    {
     "data": {
      "text/plain": [
       "12"
      ]
     },
     "execution_count": 59,
     "metadata": {},
     "output_type": "execute_result"
    }
   ],
   "source": [
    "categorical_cols = ['state_new', 'homeownership_new', 'verified_income_sourceVerified', 'verified_income_Verified', 'loan_purpose_card', 'loan_purpose_consolid', 'grade_new', 'loan_status_current', 'loan_status_paid', 'application_type_new', 'initial_listing_status_new', 'disbursement_method_new']\n",
    "len(categorical_cols)"
   ]
  },
  {
   "cell_type": "code",
   "execution_count": 60,
   "metadata": {},
   "outputs": [
    {
     "name": "stdout",
     "output_type": "stream",
     "text": [
      "[21:12:08] WARNING: ../src/learner.cc:576: \n",
      "Parameters: { \"silent\" } might not be used.\n",
      "\n",
      "  This could be a false alarm, with some parameters getting used by language bindings but\n",
      "  then being mistakenly passed down to XGBoost core, or some parameter actually being used\n",
      "  but getting flagged wrongly here. Please open an issue if you find any such cases.\n",
      "\n",
      "\n"
     ]
    },
    {
     "data": {
      "image/png": "[encoded data removed]",
      "text/plain": [
       "<Figure size 1080x720 with 1 Axes>"
      ]
     },
     "metadata": {
      "needs_background": "light"
     },
     "output_type": "display_data"
    }
   ],
   "source": [
    "data_xgb = []\n",
    "data_xgb = data[categorical_cols]\n",
    "labels = data['interest_rate']\n",
    "\n",
    "X = []\n",
    "for row in data_xgb.values:\n",
    "    row = [float(x) for x in row]\n",
    "    X.append(row)\n",
    "\n",
    "y = [float(x) for x in labels]\n",
    "\n",
    "X_train, X_test, y_train, y_test = train_test_split(X, y, \n",
    "                                                    test_size=0.2, \n",
    "                                                    random_state=0)\n",
    "\n",
    "model = xgb.XGBRegressor(n_estimators=300, \n",
    "                         learning_rate=0.1, \n",
    "                         max_depth=15, \n",
    "                         silent=True, \n",
    "                         objective='reg:gamma')\n",
    "                         \n",
    "\n",
    "model.fit(X_train, y_train)\n",
    "model.get_booster().feature_names =  list(data_xgb.columns)\n",
    "\n",
    "fig,ax = plt.subplots(figsize=(15,10))\n",
    "plot_importance(model, ax=ax)\n",
    "plt.show()"
   ]
  },
  {
   "cell_type": "markdown",
   "metadata": {},
   "source": [
    "According to feature importance, there are 8 recoded categorical features remained currently. "
   ]
  },
  {
   "cell_type": "code",
   "execution_count": 61,
   "metadata": {},
   "outputs": [
    {
     "data": {
      "text/plain": [
       "9"
      ]
     },
     "execution_count": 61,
     "metadata": {},
     "output_type": "execute_result"
    }
   ],
   "source": [
    "categorical_cols = ['homeownership_new', 'verified_income_sourceVerified', 'verified_income_Verified', 'loan_purpose_card', 'loan_purpose_consolid', 'grade_new', 'application_type_new', 'initial_listing_status_new', 'term_new']\n",
    "len(categorical_cols)"
   ]
  },
  {
   "cell_type": "markdown",
   "metadata": {},
   "source": [
    "## Current Feature Set"
   ]
  },
  {
   "cell_type": "code",
   "execution_count": 62,
   "metadata": {},
   "outputs": [
    {
     "data": {
      "text/plain": [
       "19"
      ]
     },
     "execution_count": 62,
     "metadata": {},
     "output_type": "execute_result"
    }
   ],
   "source": [
    "feature_cols = continuous_cols+categorical_cols\n",
    "len(feature_cols)"
   ]
  },
  {
   "cell_type": "code",
   "execution_count": 63,
   "metadata": {},
   "outputs": [],
   "source": [
    "meta_dict = []\n",
    "for col in feature_cols:\n",
    "    # if data[col].dtype == 'int64':\n",
    "    #     ordinal_cols.append(col)\n",
    "    type = data[col].dtype\n",
    "    unique = 0\n",
    "    if type == 'object':\n",
    "        unique = len(data[col].unique())\n",
    "    NAs = data[col].isnull().sum()\n",
    "    NA_prop = NAs / len(data[col]) * 100\n",
    "    dict_tmp = {'Name': col, 'Type': type, 'Unique': unique, 'NAs': NAs, 'NA%': NA_prop}\n",
    "    meta_dict.append(dict_tmp)"
   ]
  },
  {
   "cell_type": "code",
   "execution_count": 64,
   "metadata": {},
   "outputs": [
    {
     "data": {
      "text/html": [
       "<div>\n",
       "<style scoped>\n",
       "    .dataframe tbody tr th:only-of-type {\n",
       "        vertical-align: middle;\n",
       "    }\n",
       "\n",
       "    .dataframe tbody tr th {\n",
       "        vertical-align: top;\n",
       "    }\n",
       "\n",
       "    .dataframe thead th {\n",
       "        text-align: right;\n",
       "    }\n",
       "</style>\n",
       "<table border=\"1\" class=\"dataframe\">\n",
       "  <thead>\n",
       "    <tr style=\"text-align: right;\">\n",
       "      <th></th>\n",
       "      <th>Type</th>\n",
       "      <th>Unique</th>\n",
       "      <th>NAs</th>\n",
       "      <th>NA%</th>\n",
       "    </tr>\n",
       "    <tr>\n",
       "      <th>Name</th>\n",
       "      <th></th>\n",
       "      <th></th>\n",
       "      <th></th>\n",
       "      <th></th>\n",
       "    </tr>\n",
       "  </thead>\n",
       "  <tbody>\n",
       "    <tr>\n",
       "      <th>paid_interest</th>\n",
       "      <td>float64</td>\n",
       "      <td>0</td>\n",
       "      <td>0</td>\n",
       "      <td>0.0000</td>\n",
       "    </tr>\n",
       "    <tr>\n",
       "      <th>annual_income</th>\n",
       "      <td>float64</td>\n",
       "      <td>0</td>\n",
       "      <td>0</td>\n",
       "      <td>0.0000</td>\n",
       "    </tr>\n",
       "    <tr>\n",
       "      <th>months_since_last_credit_inquiry</th>\n",
       "      <td>float64</td>\n",
       "      <td>0</td>\n",
       "      <td>1271</td>\n",
       "      <td>12.7100</td>\n",
       "    </tr>\n",
       "    <tr>\n",
       "      <th>paid_principal</th>\n",
       "      <td>float64</td>\n",
       "      <td>0</td>\n",
       "      <td>0</td>\n",
       "      <td>0.0000</td>\n",
       "    </tr>\n",
       "    <tr>\n",
       "      <th>total_debit_limit</th>\n",
       "      <td>int64</td>\n",
       "      <td>0</td>\n",
       "      <td>0</td>\n",
       "      <td>0.0000</td>\n",
       "    </tr>\n",
       "    <tr>\n",
       "      <th>inquiries_last_12m</th>\n",
       "      <td>int64</td>\n",
       "      <td>0</td>\n",
       "      <td>0</td>\n",
       "      <td>0.0000</td>\n",
       "    </tr>\n",
       "    <tr>\n",
       "      <th>total_credit_limit</th>\n",
       "      <td>int64</td>\n",
       "      <td>0</td>\n",
       "      <td>0</td>\n",
       "      <td>0.0000</td>\n",
       "    </tr>\n",
       "    <tr>\n",
       "      <th>num_mort_accounts</th>\n",
       "      <td>int64</td>\n",
       "      <td>0</td>\n",
       "      <td>0</td>\n",
       "      <td>0.0000</td>\n",
       "    </tr>\n",
       "    <tr>\n",
       "      <th>accounts_opened_24m</th>\n",
       "      <td>int64</td>\n",
       "      <td>0</td>\n",
       "      <td>0</td>\n",
       "      <td>0.0000</td>\n",
       "    </tr>\n",
       "    <tr>\n",
       "      <th>balance</th>\n",
       "      <td>float64</td>\n",
       "      <td>0</td>\n",
       "      <td>0</td>\n",
       "      <td>0.0000</td>\n",
       "    </tr>\n",
       "    <tr>\n",
       "      <th>homeownership_new</th>\n",
       "      <td>int64</td>\n",
       "      <td>0</td>\n",
       "      <td>0</td>\n",
       "      <td>0.0000</td>\n",
       "    </tr>\n",
       "    <tr>\n",
       "      <th>verified_income_sourceVerified</th>\n",
       "      <td>int64</td>\n",
       "      <td>0</td>\n",
       "      <td>0</td>\n",
       "      <td>0.0000</td>\n",
       "    </tr>\n",
       "    <tr>\n",
       "      <th>verified_income_Verified</th>\n",
       "      <td>int64</td>\n",
       "      <td>0</td>\n",
       "      <td>0</td>\n",
       "      <td>0.0000</td>\n",
       "    </tr>\n",
       "    <tr>\n",
       "      <th>loan_purpose_card</th>\n",
       "      <td>int64</td>\n",
       "      <td>0</td>\n",
       "      <td>0</td>\n",
       "      <td>0.0000</td>\n",
       "    </tr>\n",
       "    <tr>\n",
       "      <th>loan_purpose_consolid</th>\n",
       "      <td>int64</td>\n",
       "      <td>0</td>\n",
       "      <td>0</td>\n",
       "      <td>0.0000</td>\n",
       "    </tr>\n",
       "    <tr>\n",
       "      <th>grade_new</th>\n",
       "      <td>int64</td>\n",
       "      <td>0</td>\n",
       "      <td>0</td>\n",
       "      <td>0.0000</td>\n",
       "    </tr>\n",
       "    <tr>\n",
       "      <th>application_type_new</th>\n",
       "      <td>int64</td>\n",
       "      <td>0</td>\n",
       "      <td>0</td>\n",
       "      <td>0.0000</td>\n",
       "    </tr>\n",
       "    <tr>\n",
       "      <th>initial_listing_status_new</th>\n",
       "      <td>int64</td>\n",
       "      <td>0</td>\n",
       "      <td>0</td>\n",
       "      <td>0.0000</td>\n",
       "    </tr>\n",
       "    <tr>\n",
       "      <th>term_new</th>\n",
       "      <td>int64</td>\n",
       "      <td>0</td>\n",
       "      <td>0</td>\n",
       "      <td>0.0000</td>\n",
       "    </tr>\n",
       "  </tbody>\n",
       "</table>\n",
       "</div>"
      ],
      "text/plain": [
       "                                     Type  Unique   NAs     NA%\n",
       "Name                                                           \n",
       "paid_interest                     float64       0     0  0.0000\n",
       "annual_income                     float64       0     0  0.0000\n",
       "months_since_last_credit_inquiry  float64       0  1271 12.7100\n",
       "paid_principal                    float64       0     0  0.0000\n",
       "total_debit_limit                   int64       0     0  0.0000\n",
       "inquiries_last_12m                  int64       0     0  0.0000\n",
       "total_credit_limit                  int64       0     0  0.0000\n",
       "num_mort_accounts                   int64       0     0  0.0000\n",
       "accounts_opened_24m                 int64       0     0  0.0000\n",
       "balance                           float64       0     0  0.0000\n",
       "homeownership_new                   int64       0     0  0.0000\n",
       "verified_income_sourceVerified      int64       0     0  0.0000\n",
       "verified_income_Verified            int64       0     0  0.0000\n",
       "loan_purpose_card                   int64       0     0  0.0000\n",
       "loan_purpose_consolid               int64       0     0  0.0000\n",
       "grade_new                           int64       0     0  0.0000\n",
       "application_type_new                int64       0     0  0.0000\n",
       "initial_listing_status_new          int64       0     0  0.0000\n",
       "term_new                            int64       0     0  0.0000"
      ]
     },
     "execution_count": 64,
     "metadata": {},
     "output_type": "execute_result"
    }
   ],
   "source": [
    "pd.DataFrame(meta_dict).set_index('Name')"
   ]
  },
  {
   "cell_type": "code",
   "execution_count": 65,
   "metadata": {},
   "outputs": [],
   "source": [
    "# for col in feature_cols:\n",
    "#     plt.figure()\n",
    "#     sns.histplot(data[col], bins=20)\n",
    "#     plt.show()"
   ]
  },
  {
   "cell_type": "code",
   "execution_count": 66,
   "metadata": {},
   "outputs": [],
   "source": [
    "data = data.fillna({'months_since_last_credit_inquiry': 0})"
   ]
  },
  {
   "cell_type": "markdown",
   "metadata": {},
   "source": [
    "## Modelling"
   ]
  },
  {
   "cell_type": "code",
   "execution_count": 67,
   "metadata": {},
   "outputs": [],
   "source": [
    "from sklearn.model_selection import cross_val_score\n",
    "from sklearn.model_selection import train_test_split\n",
    "from sklearn.linear_model import LinearRegression\n",
    "from  sklearn.metrics import  mean_squared_error as MSE\n",
    "from sklearn.metrics import r2_score"
   ]
  },
  {
   "cell_type": "code",
   "execution_count": 68,
   "metadata": {},
   "outputs": [],
   "source": [
    "data_new = data.copy()"
   ]
  },
  {
   "cell_type": "code",
   "execution_count": 69,
   "metadata": {},
   "outputs": [],
   "source": [
    "for col in continuous_cols:\n",
    "    # print(sum(data[col] < np.quantile(data[col], 0.999)))\n",
    "    data_new = data_new.loc[data_new[col] < np.quantile(data_new[col], 0.99), :]"
   ]
  },
  {
   "cell_type": "code",
   "execution_count": 70,
   "metadata": {},
   "outputs": [],
   "source": [
    "X = data[feature_cols].values\n",
    "y = data['interest_rate'].values"
   ]
  },
  {
   "cell_type": "markdown",
   "metadata": {},
   "source": [
    "### Baseline Model"
   ]
  },
  {
   "cell_type": "code",
   "execution_count": 71,
   "metadata": {},
   "outputs": [],
   "source": [
    "X_train, X_test, y_train, y_test = train_test_split(X, y, test_size = 0.3, random_state=10)"
   ]
  },
  {
   "cell_type": "code",
   "execution_count": 72,
   "metadata": {},
   "outputs": [
    {
     "data": {
      "text/plain": [
       "LinearRegression()"
      ]
     },
     "execution_count": 72,
     "metadata": {},
     "output_type": "execute_result"
    }
   ],
   "source": [
    "reg = LinearRegression()\n",
    "reg.fit(X_train, y_train)"
   ]
  },
  {
   "cell_type": "code",
   "execution_count": 73,
   "metadata": {},
   "outputs": [],
   "source": [
    "y_pred = reg.predict(X_test)"
   ]
  },
  {
   "cell_type": "code",
   "execution_count": 74,
   "metadata": {},
   "outputs": [
    {
     "data": {
      "text/plain": [
       "0.9488573960130858"
      ]
     },
     "execution_count": 74,
     "metadata": {},
     "output_type": "execute_result"
    }
   ],
   "source": [
    "reg.score(X_test, y_test)"
   ]
  },
  {
   "cell_type": "code",
   "execution_count": 75,
   "metadata": {},
   "outputs": [
    {
     "name": "stdout",
     "output_type": "stream",
     "text": [
      "RMSE:  1.142034911772287\n"
     ]
    }
   ],
   "source": [
    "mse=MSE(y_pred,y_test)\n",
    "print('RMSE: ', np.sqrt(mse))"
   ]
  },
  {
   "cell_type": "code",
   "execution_count": 76,
   "metadata": {},
   "outputs": [
    {
     "name": "stdout",
     "output_type": "stream",
     "text": [
      "R-squared:  0.9488573960130858\n"
     ]
    }
   ],
   "source": [
    "r_2 = r2_score(y_pred = y_pred, y_true = y_test)\n",
    "print('R-squared: ', r_2)"
   ]
  },
  {
   "cell_type": "markdown",
   "metadata": {},
   "source": [
    "### Lasso"
   ]
  },
  {
   "cell_type": "code",
   "execution_count": 77,
   "metadata": {},
   "outputs": [],
   "source": [
    "from sklearn.linear_model import Lasso\n",
    "from sklearn.linear_model import LassoCV"
   ]
  },
  {
   "cell_type": "code",
   "execution_count": 78,
   "metadata": {},
   "outputs": [],
   "source": [
    "X_train, X_test, y_train, y_test = train_test_split(X, y, test_size = 0.3, random_state=10)"
   ]
  },
  {
   "cell_type": "code",
   "execution_count": 79,
   "metadata": {},
   "outputs": [
    {
     "name": "stderr",
     "output_type": "stream",
     "text": [
      "/Users/riliu/opt/anaconda3/lib/python3.8/site-packages/sklearn/linear_model/_coordinate_descent.py:633: UserWarning: Coordinate descent with alpha=0 may lead to unexpected results and is discouraged.\n",
      "  model = cd_fast.enet_coordinate_descent_gram(\n",
      "/Users/riliu/opt/anaconda3/lib/python3.8/site-packages/sklearn/linear_model/_coordinate_descent.py:633: ConvergenceWarning: Objective did not converge. You might want to increase the number of iterations. Duality gap: 4004.469531495197, tolerance: 13.895408627212507\n",
      "  model = cd_fast.enet_coordinate_descent_gram(\n",
      "/Users/riliu/opt/anaconda3/lib/python3.8/site-packages/sklearn/linear_model/_coordinate_descent.py:633: UserWarning: Coordinate descent with alpha=0 may lead to unexpected results and is discouraged.\n",
      "  model = cd_fast.enet_coordinate_descent_gram(\n",
      "/Users/riliu/opt/anaconda3/lib/python3.8/site-packages/sklearn/linear_model/_coordinate_descent.py:633: ConvergenceWarning: Objective did not converge. You might want to increase the number of iterations. Duality gap: 3939.1161869875214, tolerance: 13.802974719283934\n",
      "  model = cd_fast.enet_coordinate_descent_gram(\n",
      "/Users/riliu/opt/anaconda3/lib/python3.8/site-packages/sklearn/linear_model/_coordinate_descent.py:633: UserWarning: Coordinate descent with alpha=0 may lead to unexpected results and is discouraged.\n",
      "  model = cd_fast.enet_coordinate_descent_gram(\n",
      "/Users/riliu/opt/anaconda3/lib/python3.8/site-packages/sklearn/linear_model/_coordinate_descent.py:633: UserWarning: Coordinate descent with alpha=0 may lead to unexpected results and is discouraged.\n",
      "  model = cd_fast.enet_coordinate_descent_gram(\n",
      "/Users/riliu/opt/anaconda3/lib/python3.8/site-packages/sklearn/linear_model/_coordinate_descent.py:633: ConvergenceWarning: Objective did not converge. You might want to increase the number of iterations. Duality gap: 4085.7977009459573, tolerance: 13.865352375783921\n",
      "  model = cd_fast.enet_coordinate_descent_gram(\n",
      "/Users/riliu/opt/anaconda3/lib/python3.8/site-packages/sklearn/linear_model/_coordinate_descent.py:633: UserWarning: Coordinate descent with alpha=0 may lead to unexpected results and is discouraged.\n",
      "  model = cd_fast.enet_coordinate_descent_gram(\n"
     ]
    },
    {
     "data": {
      "text/plain": [
       "LassoCV(alphas=[0, 0.1, 0.01, 0.001, 0.0001])"
      ]
     },
     "execution_count": 79,
     "metadata": {},
     "output_type": "execute_result"
    }
   ],
   "source": [
    "lasso = LassoCV(alphas = [0,0.1,0.01, 0.001, 0.0001])\n",
    "lasso.fit(X_train, y_train)"
   ]
  },
  {
   "cell_type": "code",
   "execution_count": 80,
   "metadata": {},
   "outputs": [
    {
     "data": {
      "text/plain": [
       "0.001"
      ]
     },
     "execution_count": 80,
     "metadata": {},
     "output_type": "execute_result"
    }
   ],
   "source": [
    "lasso.alpha_"
   ]
  },
  {
   "cell_type": "code",
   "execution_count": 81,
   "metadata": {},
   "outputs": [
    {
     "data": {
      "text/plain": [
       "0.948862734023154"
      ]
     },
     "execution_count": 81,
     "metadata": {},
     "output_type": "execute_result"
    }
   ],
   "source": [
    "lasso.score(X_test, y_test)"
   ]
  },
  {
   "cell_type": "code",
   "execution_count": 82,
   "metadata": {},
   "outputs": [],
   "source": [
    "y_pred = lasso.predict(X_test)"
   ]
  },
  {
   "cell_type": "code",
   "execution_count": 83,
   "metadata": {},
   "outputs": [
    {
     "name": "stdout",
     "output_type": "stream",
     "text": [
      "RMSE:  1.141975310261384\n"
     ]
    }
   ],
   "source": [
    "mse=MSE(y_pred=y_pred, y_true=y_test)\n",
    "print('RMSE: ', np.sqrt(mse))"
   ]
  },
  {
   "cell_type": "code",
   "execution_count": 84,
   "metadata": {},
   "outputs": [
    {
     "data": {
      "text/plain": [
       "0.941553205597439"
      ]
     },
     "execution_count": 84,
     "metadata": {},
     "output_type": "execute_result"
    }
   ],
   "source": [
    "lasso.score(X_train, y_train)"
   ]
  },
  {
   "cell_type": "code",
   "execution_count": 85,
   "metadata": {},
   "outputs": [
    {
     "data": {
      "text/html": [
       "<div>\n",
       "<style scoped>\n",
       "    .dataframe tbody tr th:only-of-type {\n",
       "        vertical-align: middle;\n",
       "    }\n",
       "\n",
       "    .dataframe tbody tr th {\n",
       "        vertical-align: top;\n",
       "    }\n",
       "\n",
       "    .dataframe thead th {\n",
       "        text-align: right;\n",
       "    }\n",
       "</style>\n",
       "<table border=\"1\" class=\"dataframe\">\n",
       "  <thead>\n",
       "    <tr style=\"text-align: right;\">\n",
       "      <th></th>\n",
       "      <th>column</th>\n",
       "      <th>coef</th>\n",
       "      <th>importance</th>\n",
       "    </tr>\n",
       "  </thead>\n",
       "  <tbody>\n",
       "    <tr>\n",
       "      <th>15</th>\n",
       "      <td>grade_new</td>\n",
       "      <td>3.9455</td>\n",
       "      <td>3.9455</td>\n",
       "    </tr>\n",
       "    <tr>\n",
       "      <th>12</th>\n",
       "      <td>verified_income_Verified</td>\n",
       "      <td>0.2187</td>\n",
       "      <td>0.2187</td>\n",
       "    </tr>\n",
       "    <tr>\n",
       "      <th>18</th>\n",
       "      <td>term_new</td>\n",
       "      <td>0.0804</td>\n",
       "      <td>0.0804</td>\n",
       "    </tr>\n",
       "    <tr>\n",
       "      <th>13</th>\n",
       "      <td>loan_purpose_card</td>\n",
       "      <td>-0.0505</td>\n",
       "      <td>0.0505</td>\n",
       "    </tr>\n",
       "    <tr>\n",
       "      <th>11</th>\n",
       "      <td>verified_income_sourceVerified</td>\n",
       "      <td>0.0496</td>\n",
       "      <td>0.0496</td>\n",
       "    </tr>\n",
       "    <tr>\n",
       "      <th>17</th>\n",
       "      <td>initial_listing_status_new</td>\n",
       "      <td>-0.0460</td>\n",
       "      <td>0.0460</td>\n",
       "    </tr>\n",
       "    <tr>\n",
       "      <th>10</th>\n",
       "      <td>homeownership_new</td>\n",
       "      <td>0.0441</td>\n",
       "      <td>0.0441</td>\n",
       "    </tr>\n",
       "    <tr>\n",
       "      <th>14</th>\n",
       "      <td>loan_purpose_consolid</td>\n",
       "      <td>0.0413</td>\n",
       "      <td>0.0413</td>\n",
       "    </tr>\n",
       "    <tr>\n",
       "      <th>7</th>\n",
       "      <td>num_mort_accounts</td>\n",
       "      <td>-0.0362</td>\n",
       "      <td>0.0362</td>\n",
       "    </tr>\n",
       "    <tr>\n",
       "      <th>5</th>\n",
       "      <td>inquiries_last_12m</td>\n",
       "      <td>0.0169</td>\n",
       "      <td>0.0169</td>\n",
       "    </tr>\n",
       "    <tr>\n",
       "      <th>8</th>\n",
       "      <td>accounts_opened_24m</td>\n",
       "      <td>0.0148</td>\n",
       "      <td>0.0148</td>\n",
       "    </tr>\n",
       "    <tr>\n",
       "      <th>0</th>\n",
       "      <td>paid_interest</td>\n",
       "      <td>0.0011</td>\n",
       "      <td>0.0011</td>\n",
       "    </tr>\n",
       "    <tr>\n",
       "      <th>2</th>\n",
       "      <td>months_since_last_credit_inquiry</td>\n",
       "      <td>-0.0001</td>\n",
       "      <td>0.0001</td>\n",
       "    </tr>\n",
       "    <tr>\n",
       "      <th>9</th>\n",
       "      <td>balance</td>\n",
       "      <td>-0.0000</td>\n",
       "      <td>0.0000</td>\n",
       "    </tr>\n",
       "    <tr>\n",
       "      <th>3</th>\n",
       "      <td>paid_principal</td>\n",
       "      <td>-0.0000</td>\n",
       "      <td>0.0000</td>\n",
       "    </tr>\n",
       "    <tr>\n",
       "      <th>4</th>\n",
       "      <td>total_debit_limit</td>\n",
       "      <td>-0.0000</td>\n",
       "      <td>0.0000</td>\n",
       "    </tr>\n",
       "    <tr>\n",
       "      <th>1</th>\n",
       "      <td>annual_income</td>\n",
       "      <td>-0.0000</td>\n",
       "      <td>0.0000</td>\n",
       "    </tr>\n",
       "    <tr>\n",
       "      <th>6</th>\n",
       "      <td>total_credit_limit</td>\n",
       "      <td>0.0000</td>\n",
       "      <td>0.0000</td>\n",
       "    </tr>\n",
       "    <tr>\n",
       "      <th>16</th>\n",
       "      <td>application_type_new</td>\n",
       "      <td>-0.0000</td>\n",
       "      <td>0.0000</td>\n",
       "    </tr>\n",
       "  </tbody>\n",
       "</table>\n",
       "</div>"
      ],
      "text/plain": [
       "                              column    coef  importance\n",
       "15                         grade_new  3.9455      3.9455\n",
       "12          verified_income_Verified  0.2187      0.2187\n",
       "18                          term_new  0.0804      0.0804\n",
       "13                 loan_purpose_card -0.0505      0.0505\n",
       "11    verified_income_sourceVerified  0.0496      0.0496\n",
       "17        initial_listing_status_new -0.0460      0.0460\n",
       "10                 homeownership_new  0.0441      0.0441\n",
       "14             loan_purpose_consolid  0.0413      0.0413\n",
       "7                  num_mort_accounts -0.0362      0.0362\n",
       "5                 inquiries_last_12m  0.0169      0.0169\n",
       "8                accounts_opened_24m  0.0148      0.0148\n",
       "0                      paid_interest  0.0011      0.0011\n",
       "2   months_since_last_credit_inquiry -0.0001      0.0001\n",
       "9                            balance -0.0000      0.0000\n",
       "3                     paid_principal -0.0000      0.0000\n",
       "4                  total_debit_limit -0.0000      0.0000\n",
       "1                      annual_income -0.0000      0.0000\n",
       "6                 total_credit_limit  0.0000      0.0000\n",
       "16              application_type_new -0.0000      0.0000"
      ]
     },
     "execution_count": 85,
     "metadata": {},
     "output_type": "execute_result"
    }
   ],
   "source": [
    "feat_importance = pd.DataFrame({'column': data[feature_cols].columns, 'coef':list(lasso.coef_)})\n",
    "feat_importance['importance'] = np.abs(feat_importance.coef)\n",
    "feat_importance = feat_importance.sort_values(by='importance', ascending=False)\n",
    "feat_importance"
   ]
  },
  {
   "cell_type": "code",
   "execution_count": 86,
   "metadata": {},
   "outputs": [
    {
     "data": {
      "text/plain": [
       "['paid_interest',\n",
       " 'annual_income',\n",
       " 'months_since_last_credit_inquiry',\n",
       " 'paid_principal',\n",
       " 'total_debit_limit',\n",
       " 'inquiries_last_12m',\n",
       " 'total_credit_limit',\n",
       " 'num_mort_accounts',\n",
       " 'accounts_opened_24m',\n",
       " 'balance',\n",
       " 'homeownership_new',\n",
       " 'verified_income_sourceVerified',\n",
       " 'verified_income_Verified',\n",
       " 'loan_purpose_card',\n",
       " 'loan_purpose_consolid',\n",
       " 'grade_new',\n",
       " 'application_type_new',\n",
       " 'initial_listing_status_new',\n",
       " 'term_new']"
      ]
     },
     "execution_count": 86,
     "metadata": {},
     "output_type": "execute_result"
    }
   ],
   "source": [
    "# feature_cols = list(feat_importance.loc[feat_importance.importance > 0.001, 'column'].values)\n",
    "feature_cols"
   ]
  },
  {
   "cell_type": "code",
   "execution_count": null,
   "metadata": {},
   "outputs": [],
   "source": []
  },
  {
   "cell_type": "markdown",
   "metadata": {},
   "source": [
    "### Regression Tree"
   ]
  },
  {
   "cell_type": "code",
   "execution_count": 87,
   "metadata": {},
   "outputs": [],
   "source": [
    "from sklearn.tree import DecisionTreeRegressor"
   ]
  },
  {
   "cell_type": "code",
   "execution_count": 88,
   "metadata": {},
   "outputs": [
    {
     "data": {
      "text/plain": [
       "DecisionTreeRegressor(random_state=10)"
      ]
     },
     "execution_count": 88,
     "metadata": {},
     "output_type": "execute_result"
    }
   ],
   "source": [
    "tree = DecisionTreeRegressor(random_state=10)\n",
    "tree.fit(X_train, y_train)"
   ]
  },
  {
   "cell_type": "code",
   "execution_count": 89,
   "metadata": {},
   "outputs": [
    {
     "data": {
      "text/plain": [
       "0.9596474689613324"
      ]
     },
     "execution_count": 89,
     "metadata": {},
     "output_type": "execute_result"
    }
   ],
   "source": [
    "tree.score(X_test, y_test)"
   ]
  },
  {
   "cell_type": "code",
   "execution_count": 90,
   "metadata": {},
   "outputs": [
    {
     "data": {
      "text/plain": [
       "1.0290742333333338"
      ]
     },
     "execution_count": 90,
     "metadata": {},
     "output_type": "execute_result"
    }
   ],
   "source": [
    "y_pred = tree.predict(X_test)\n",
    "MSE(y_pred=y_pred, y_true=y_test)"
   ]
  },
  {
   "cell_type": "code",
   "execution_count": null,
   "metadata": {},
   "outputs": [],
   "source": []
  }
 ],
 "metadata": {
  "interpreter": {
   "hash": "02cf3106307752eb81c09a24d8a981a5ffb32764a1b46fb531af896d66fa8e9e"
  },
  "kernelspec": {
   "display_name": "Python 3 (ipykernel)",
   "language": "python",
   "name": "python3"
  },
  "language_info": {
   "codemirror_mode": {
    "name": "ipython",
    "version": 3
   },
   "file_extension": ".py",
   "mimetype": "text/x-python",
   "name": "python",
   "nbconvert_exporter": "python",
   "pygments_lexer": "ipython3",
   "version": "3.8.12"
  }
 },
 "nbformat": 4,
 "nbformat_minor": 2
}
